{
 "cells": [
  {
   "cell_type": "markdown",
   "metadata": {},
   "source": [
    "## Gensim Word2Vec example\n",
    "\n",
    "from : https://rare-technologies.com/word2vec-tutorial/"
   ]
  },
  {
   "cell_type": "code",
   "execution_count": 43,
   "metadata": {
    "collapsed": true
   },
   "outputs": [],
   "source": [
    "import gensim\n",
    "import os\n",
    "import matplotlib\n",
    "import numpy as np\n",
    "import matplotlib.pyplot as plt\n",
    "from sklearn.manifold import TSNE\n",
    "import string\n"
   ]
  },
  {
   "cell_type": "code",
   "execution_count": 60,
   "metadata": {
    "collapsed": true
   },
   "outputs": [],
   "source": [
    "class SentenceReader:\n",
    "    \n",
    "    def __init__(self, dir_name, file_names = None):\n",
    "        self.dir_name = dir_name\n",
    "        self.file_names = file_names\n",
    "    \n",
    "    def __iter__(self):\n",
    "        if self.file_names:\n",
    "            for file_name in self.file_names:\n",
    "                with open(\"{}/{}\".format(self.dir_name,file_name), \"r\") as file:\n",
    "                    for line in file:\n",
    "                        quote = line.split(\"+++$+++\")[-1]\n",
    "                        yield self.parse_line(quote)\n",
    "        else:\n",
    "            for file_name in os.listdir(self.dir_name):\n",
    "                if \".\" != file_name[0]:\n",
    "                    with open(os.path.join(self.dir_name, file_name)) as file:\n",
    "                        for line in file:\n",
    "                            quote = line.split(\"+++$+++\")[-1]\n",
    "                            yield self.parse_line(quote)\n",
    "                            \n",
    "    def parse_line(self, line):\n",
    "        line = line.lower()\n",
    "        words = line.split()\n",
    "        clean = [self.parse_word(word) for word in words]\n",
    "        return clean\n",
    "    \n",
    "    @staticmethod\n",
    "    def parse_word(word):\n",
    "        return \"\".join(ch for ch in word if ch in string.ascii_lowercase)\n",
    "                        "
   ]
  },
  {
   "cell_type": "code",
   "execution_count": 61,
   "metadata": {
    "collapsed": false
   },
   "outputs": [],
   "source": [
    "reader = SentenceReader(\"cornell movie-dialogs corpus\", [\"utf-8_movie_lines.txt\"])\n",
    "# corpus at: http://www.mpi-sws.org/~cristian/Cornell_Movie-Dialogs_Corpus.html"
   ]
  },
  {
   "cell_type": "code",
   "execution_count": 62,
   "metadata": {
    "collapsed": false
   },
   "outputs": [],
   "source": [
    "model = gensim.models.Word2Vec(iter = 1)"
   ]
  },
  {
   "cell_type": "code",
   "execution_count": 63,
   "metadata": {
    "collapsed": false
   },
   "outputs": [],
   "source": [
    "model.build_vocab(reader)"
   ]
  },
  {
   "cell_type": "code",
   "execution_count": 64,
   "metadata": {
    "collapsed": false
   },
   "outputs": [
    {
     "data": {
      "text/plain": [
       "2291060"
      ]
     },
     "execution_count": 64,
     "metadata": {},
     "output_type": "execute_result"
    }
   ],
   "source": [
    "model.train(reader)"
   ]
  },
  {
   "cell_type": "code",
   "execution_count": 65,
   "metadata": {
    "collapsed": false
   },
   "outputs": [
    {
     "data": {
      "text/plain": [
       "array([ 0.1635423 , -0.58971685,  0.29543209, -0.17094728, -0.42626172,\n",
       "       -0.57157815, -0.22132151, -0.05173911,  0.32470861,  0.05904179,\n",
       "        0.64839745,  0.31419957, -0.77372396, -0.5285005 , -0.39857912,\n",
       "        0.20024008,  0.44225854,  0.50174326, -0.5831908 , -0.2788851 ,\n",
       "       -0.08613026, -0.42187759, -0.02481276, -0.43225208, -0.33815849,\n",
       "        0.72863638,  0.59567386, -0.61421734, -0.22237566,  0.64171827,\n",
       "        1.48421168, -0.37601259,  0.83808547, -0.20386536,  0.03576282,\n",
       "       -0.29986972,  0.16733167,  0.47755608, -0.43766591,  0.6023891 ,\n",
       "        0.35160473, -0.42721191,  0.14636001, -0.22811335, -0.41458517,\n",
       "       -0.72565502, -0.39204457,  0.50356185,  0.42858922,  0.11908549,\n",
       "       -0.52616674,  0.15215506,  0.37406671,  0.72888631,  0.78472912,\n",
       "       -0.37038398,  0.54259282,  0.39926222, -0.3164078 ,  0.44766462,\n",
       "        0.66929013, -0.52785265, -0.68453068,  1.63732898,  0.27019677,\n",
       "        0.49352893, -0.51375264, -0.02014878,  0.39105985,  0.08211526,\n",
       "       -0.52763492, -0.12340431, -0.02455592,  0.93888932, -0.911493  ,\n",
       "       -0.05264687,  0.23805116, -0.66548616, -0.46323597, -0.30226135,\n",
       "        0.26877651, -1.57694972,  0.02662805, -0.18380032,  0.1215619 ,\n",
       "       -0.67993224,  0.03978854, -0.732355  , -0.04698927,  0.7934891 ,\n",
       "        0.13182235, -0.18628989, -0.82922977,  0.47868216, -0.53656405,\n",
       "       -0.20523825,  0.10638604,  0.10881641, -0.48749173,  0.37868288], dtype=float32)"
      ]
     },
     "execution_count": 65,
     "metadata": {},
     "output_type": "execute_result"
    }
   ],
   "source": [
    "model[\"god\"]"
   ]
  },
  {
   "cell_type": "code",
   "execution_count": 66,
   "metadata": {
    "collapsed": false
   },
   "outputs": [],
   "source": [
    "Vectors = np.asarray([model[key] for key in model.vocab.keys()])"
   ]
  },
  {
   "cell_type": "code",
   "execution_count": 67,
   "metadata": {
    "collapsed": false
   },
   "outputs": [
    {
     "name": "stdout",
     "output_type": "stream",
     "text": [
      "\n",
      "recovered\n",
      "stimulating\n",
      "info\n",
      "miserable\n"
     ]
    }
   ],
   "source": [
    "i = 0\n",
    "for key in model.vocab.keys():\n",
    "    print(key)\n",
    "    i += 1\n",
    "    if i == 5:\n",
    "        break"
   ]
  },
  {
   "cell_type": "code",
   "execution_count": 68,
   "metadata": {
    "collapsed": false
   },
   "outputs": [],
   "source": [
    "tsne_rep = TSNE()"
   ]
  },
  {
   "cell_type": "code",
   "execution_count": 69,
   "metadata": {
    "collapsed": false
   },
   "outputs": [],
   "source": [
    "embedding = tsne_rep.fit_transform(Vectors[0: 100])"
   ]
  },
  {
   "cell_type": "code",
   "execution_count": 70,
   "metadata": {
    "collapsed": false
   },
   "outputs": [],
   "source": [
    "embedding_x = [v[0] for v in embedding]\n",
    "embedding_y = [v[1] for v in embedding]\n",
    "embedding_labels = [key for key in model.vocab.keys()]"
   ]
  },
  {
   "cell_type": "code",
   "execution_count": 73,
   "metadata": {
    "collapsed": false
   },
   "outputs": [],
   "source": [
    "plt.clf()\n",
    "plt.xlim(min(embedding_x) , max(embedding_x))\n",
    "plt.ylim(min(embedding_y) , max(embedding_y))\n",
    "\n",
    "plt.scatter(embedding_x, embedding_y)\n",
    "for i, tag in enumerate(embedding_labels[0: 100]):\n",
    "    plt.annotate(tag, (embedding_x[i], embedding_y[i]), size = \"xx-small\")\n",
    "\n",
    "fig_size = plt.rcParams[\"figure.figsize\"]\n",
    "fig_size[0] = 25\n",
    "fig_size[1] = 10\n",
    "plt.rcParams[\"figure.figsize\"] = fig_size\n",
    "plt.margins(0.01,0)\n",
    "\n",
    "\n",
    "plt.savefig(\"movie quotes word embedding\", dpi = 1000)"
   ]
  },
  {
   "cell_type": "code",
   "execution_count": null,
   "metadata": {
    "collapsed": true
   },
   "outputs": [],
   "source": []
  }
 ],
 "metadata": {
  "anaconda-cloud": {},
  "kernelspec": {
   "display_name": "Python [Root]",
   "language": "python",
   "name": "Python [Root]"
  },
  "language_info": {
   "codemirror_mode": {
    "name": "ipython",
    "version": 3
   },
   "file_extension": ".py",
   "mimetype": "text/x-python",
   "name": "python",
   "nbconvert_exporter": "python",
   "pygments_lexer": "ipython3",
   "version": "3.4.5"
  }
 },
 "nbformat": 4,
 "nbformat_minor": 0
}
