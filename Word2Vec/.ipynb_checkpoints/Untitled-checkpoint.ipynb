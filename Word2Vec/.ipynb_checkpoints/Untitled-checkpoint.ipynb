{
 "cells": [
  {
   "cell_type": "markdown",
   "metadata": {},
   "source": [
    "## Gensim Word2Vec example\n",
    "\n",
    "from : https://rare-technologies.com/word2vec-tutorial/"
   ]
  },
  {
   "cell_type": "code",
   "execution_count": 14,
   "metadata": {
    "collapsed": true
   },
   "outputs": [],
   "source": [
    "import gensim\n",
    "import os"
   ]
  },
  {
   "cell_type": "code",
   "execution_count": null,
   "metadata": {
    "collapsed": true
   },
   "outputs": [],
   "source": [
    "punctuation = \".?!\""
   ]
  },
  {
   "cell_type": "code",
   "execution_count": 53,
   "metadata": {
    "collapsed": true
   },
   "outputs": [],
   "source": [
    "class SentenceReader:\n",
    "    \n",
    "    def __init__(self, dir_name, file_names = None):\n",
    "        self.dir_name = dir_name\n",
    "        self.file_names = file_names\n",
    "    \n",
    "    def __iter__(self):\n",
    "        if self.file_names:\n",
    "            for file_name in self.file_names:\n",
    "                with open(\"{}/{}\".format(self.dir_name,file_name), \"r\") as file:\n",
    "                    for line in file:\n",
    "                        quote = line.split(\"+++$+++\")[-1]\n",
    "                        \n",
    "                        yield line.split(\"+++$+++\")[-1].split()\n",
    "        else:\n",
    "            for file_name in os.listdir(self.dir_name):\n",
    "                if \".\" != file_name[0]:\n",
    "                    with open(os.path.join(self.dir_name, file_name)) as file:\n",
    "                        for line in file:\n",
    "                            yield line.split(\"+++$+++\")[-1].split()\n",
    "                        "
   ]
  },
  {
   "cell_type": "code",
   "execution_count": 54,
   "metadata": {
    "collapsed": false
   },
   "outputs": [],
   "source": [
    "reader = SentenceReader(\"cornell movie-dialogs corpus\", [\"utf-8_movie_lines.txt\"])\n",
    "# corpus at: http://www.mpi-sws.org/~cristian/Cornell_Movie-Dialogs_Corpus.html"
   ]
  },
  {
   "cell_type": "code",
   "execution_count": 55,
   "metadata": {
    "collapsed": false
   },
   "outputs": [],
   "source": [
    "model = gensim.models.Word2Vec(iter = 1)"
   ]
  },
  {
   "cell_type": "code",
   "execution_count": 56,
   "metadata": {
    "collapsed": false
   },
   "outputs": [],
   "source": [
    "model.build_vocab(reader)"
   ]
  },
  {
   "cell_type": "code",
   "execution_count": 57,
   "metadata": {
    "collapsed": false
   },
   "outputs": [
    {
     "data": {
      "text/plain": [
       "2418916"
      ]
     },
     "execution_count": 57,
     "metadata": {},
     "output_type": "execute_result"
    }
   ],
   "source": [
    "model.train(reader)"
   ]
  },
  {
   "cell_type": "code",
   "execution_count": 69,
   "metadata": {
    "collapsed": false
   },
   "outputs": [
    {
     "data": {
      "text/plain": [
       "[('Indian,', 0.8838804364204407),\n",
       " ('Dyle', 0.8713141679763794),\n",
       " ('That', 0.8598741292953491),\n",
       " ('friendship.', 0.8588438630104065),\n",
       " ('directed', 0.8545224070549011),\n",
       " ('Diego', 0.852422297000885),\n",
       " ('Luke', 0.8510038256645203),\n",
       " ('marijuana.', 0.8509867191314697),\n",
       " ('Whoever', 0.8400105834007263),\n",
       " ('garden.', 0.8366004228591919)]"
      ]
     },
     "execution_count": 69,
     "metadata": {},
     "output_type": "execute_result"
    }
   ],
   "source": [
    "model.most_similar(positive=[\"aunt\", \"man\"], negative=['man'])"
   ]
  },
  {
   "cell_type": "code",
   "execution_count": null,
   "metadata": {
    "collapsed": true
   },
   "outputs": [],
   "source": []
  }
 ],
 "metadata": {
  "anaconda-cloud": {},
  "kernelspec": {
   "display_name": "Python [Root]",
   "language": "python",
   "name": "Python [Root]"
  },
  "language_info": {
   "codemirror_mode": {
    "name": "ipython",
    "version": 3
   },
   "file_extension": ".py",
   "mimetype": "text/x-python",
   "name": "python",
   "nbconvert_exporter": "python",
   "pygments_lexer": "ipython3",
   "version": "3.4.5"
  }
 },
 "nbformat": 4,
 "nbformat_minor": 0
}
