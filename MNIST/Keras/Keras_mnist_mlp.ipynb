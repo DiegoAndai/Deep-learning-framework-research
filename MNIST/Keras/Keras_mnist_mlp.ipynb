{
 "cells": [
  {
   "cell_type": "markdown",
   "metadata": {},
   "source": [
    "# Keras MNIST mlp\n",
    "\n",
    "Dimension: 784x10<br>\n",
    "Training size: 60,000<br>\n",
    "Test size: 10,000"
   ]
  },
  {
   "cell_type": "code",
   "execution_count": 1,
   "metadata": {
    "collapsed": false
   },
   "outputs": [
    {
     "name": "stderr",
     "output_type": "stream",
     "text": [
      "Using Theano backend.\n"
     ]
    }
   ],
   "source": [
    "import keras as ks"
   ]
  },
  {
   "cell_type": "code",
   "execution_count": 2,
   "metadata": {
    "collapsed": false
   },
   "outputs": [],
   "source": [
    "import numpy as np\n",
    "from functools import reduce\n",
    "import datetime"
   ]
  },
  {
   "cell_type": "markdown",
   "metadata": {},
   "source": [
    "### Load data"
   ]
  },
  {
   "cell_type": "code",
   "execution_count": 3,
   "metadata": {
    "collapsed": true
   },
   "outputs": [],
   "source": [
    "from mnist import MNIST\n",
    "#you can find python-mnist source code on https://github.com/sorki/python-mnist\n",
    "\n",
    "datahandler = MNIST('../mnist_data_loader') #change for data path\n",
    "train_data = datahandler.load_training()\n",
    "test_data = datahandler.load_testing()"
   ]
  },
  {
   "cell_type": "code",
   "execution_count": 4,
   "metadata": {
    "collapsed": false
   },
   "outputs": [],
   "source": [
    "train_image_array = np.asarray(train_data[0])\n",
    "test_image_array = np.asarray(test_data[0])"
   ]
  },
  {
   "cell_type": "code",
   "execution_count": 5,
   "metadata": {
    "collapsed": true
   },
   "outputs": [],
   "source": [
    "train_label_list = []\n",
    "for i in train_data[1]:\n",
    "    l = [0]*10\n",
    "    l[i] = 1\n",
    "    train_label_list.append(l)\n",
    "\n",
    "train_label_array = np.asarray(train_label_list)"
   ]
  },
  {
   "cell_type": "code",
   "execution_count": 6,
   "metadata": {
    "collapsed": true
   },
   "outputs": [],
   "source": [
    "test_label_list = []\n",
    "for i in test_data[1]:\n",
    "    l = [0]*10\n",
    "    l[i] = 1\n",
    "    test_label_list.append(l)\n",
    "\n",
    "test_label_array = np.asarray(test_label_list)"
   ]
  },
  {
   "cell_type": "markdown",
   "metadata": {},
   "source": [
    "### Create and train model"
   ]
  },
  {
   "cell_type": "code",
   "execution_count": 7,
   "metadata": {
    "collapsed": false
   },
   "outputs": [],
   "source": [
    "from keras.models import Sequential\n",
    "from keras.layers import Dense, Activation, Input\n",
    "from keras.optimizers import SGD"
   ]
  },
  {
   "cell_type": "code",
   "execution_count": 8,
   "metadata": {
    "collapsed": false
   },
   "outputs": [],
   "source": [
    "model = Sequential([\n",
    "    Dense(10, batch_input_shape=(None, 784), activation = 'sigmoid'),\n",
    "    Dense(10, activation = 'softmax'),\n",
    "])"
   ]
  },
  {
   "cell_type": "code",
   "execution_count": 9,
   "metadata": {
    "collapsed": false
   },
   "outputs": [],
   "source": [
    "sgd = SGD(lr=0.01, momentum=0.0, decay=0.0, nesterov=False)\n",
    "model.compile(loss='binary_crossentropy', optimizer=sgd, metrics = ['accuracy'])"
   ]
  },
  {
   "cell_type": "code",
   "execution_count": 10,
   "metadata": {
    "collapsed": false
   },
   "outputs": [
    {
     "name": "stdout",
     "output_type": "stream",
     "text": [
      "Epoch 1/10\n",
      "60000/60000 [==============================] - 3s - loss: 0.2622 - acc: 0.9012     \n",
      "Epoch 2/10\n",
      "60000/60000 [==============================] - 3s - loss: 0.2052 - acc: 0.9103     \n",
      "Epoch 3/10\n",
      "60000/60000 [==============================] - 3s - loss: 0.1716 - acc: 0.9331     \n",
      "Epoch 4/10\n",
      "60000/60000 [==============================] - 3s - loss: 0.1487 - acc: 0.9520     \n",
      "Epoch 5/10\n",
      "60000/60000 [==============================] - 3s - loss: 0.1335 - acc: 0.9573     \n",
      "Epoch 6/10\n",
      "60000/60000 [==============================] - 3s - loss: 0.1229 - acc: 0.9616     \n",
      "Epoch 7/10\n",
      "60000/60000 [==============================] - 3s - loss: 0.1144 - acc: 0.9657     \n",
      "Epoch 8/10\n",
      "60000/60000 [==============================] - 4s - loss: 0.1082 - acc: 0.9673     \n",
      "Epoch 9/10\n",
      "60000/60000 [==============================] - 4s - loss: 0.1039 - acc: 0.9682     \n",
      "Epoch 10/10\n",
      "60000/60000 [==============================] - 4s - loss: 0.1014 - acc: 0.9688     \n",
      "Tiempo de ejecución: 0:00:38.723407\n"
     ]
    }
   ],
   "source": [
    "t = datetime.datetime.now()\n",
    "hist = model.fit(train_image_array, \n",
    "                 train_label_array,\n",
    "                 nb_epoch=10, \n",
    "                 batch_size=10)\n",
    "print(\"Tiempo de ejecución: {}\".format(datetime.datetime.now()-t))"
   ]
  },
  {
   "cell_type": "markdown",
   "metadata": {},
   "source": [
    "### Make predictions"
   ]
  },
  {
   "cell_type": "code",
   "execution_count": 11,
   "metadata": {
    "collapsed": false
   },
   "outputs": [],
   "source": [
    "p = model.predict([test_image_array])"
   ]
  },
  {
   "cell_type": "code",
   "execution_count": 12,
   "metadata": {
    "collapsed": false
   },
   "outputs": [
    {
     "name": "stdout",
     "output_type": "stream",
     "text": [
      "Dimensión predicción: (10000, 10)\n"
     ]
    }
   ],
   "source": [
    "print(\"Dimensión predicción: {0}\".format(p.shape)) #check prediction dimensions"
   ]
  },
  {
   "cell_type": "markdown",
   "metadata": {},
   "source": [
    "# Metrics"
   ]
  },
  {
   "cell_type": "markdown",
   "metadata": {},
   "source": [
    "### Confusion matrix\n",
    "Useful for metric calculation"
   ]
  },
  {
   "cell_type": "code",
   "execution_count": 13,
   "metadata": {
    "collapsed": false
   },
   "outputs": [
    {
     "name": "stdout",
     "output_type": "stream",
     "text": [
      "[[  918.     0.     8.     5.     1.    12.    17.     1.    14.     4.]\n",
      " [    0.  1091.    10.     4.     2.     0.     3.     2.    23.     0.]\n",
      " [   17.    13.   928.     3.    11.     4.    16.    13.    22.     5.]\n",
      " [   33.     3.    87.   769.     9.    41.     4.    19.    15.    30.]\n",
      " [    2.     3.    14.     1.   911.     1.     9.     2.     7.    32.]\n",
      " [   48.     9.     7.    40.    22.   539.    33.    19.   160.    15.]\n",
      " [   15.     3.    24.     1.    30.     8.   850.     0.    26.     1.]\n",
      " [    2.    10.    36.     2.    14.     2.     1.   877.     8.    76.]\n",
      " [   12.     9.    29.    18.    32.     8.    16.    19.   786.    45.]\n",
      " [   11.     2.     2.    10.    71.     8.     1.    26.    11.   867.]]\n"
     ]
    }
   ],
   "source": [
    "conf_mtx = np.zeros([10, 10])\n",
    "for j in range(0, len(p)):\n",
    "    prediction = p[j]\n",
    "    max_pred = reduce(lambda x, y: (x if prediction[x] > prediction[y] else y), range(0,10))\n",
    "    actual_label = list(filter(lambda i: test_label_array[j][i], range(0,10)))[0]\n",
    "    conf_mtx[actual_label][max_pred] += 1\n",
    "np.set_printoptions(suppress=True)\n",
    "print(conf_mtx)"
   ]
  },
  {
   "cell_type": "markdown",
   "metadata": {},
   "source": [
    "### Accuracy"
   ]
  },
  {
   "cell_type": "code",
   "execution_count": 14,
   "metadata": {
    "collapsed": true
   },
   "outputs": [],
   "source": [
    "acc = (sum(conf_mtx[i][i] for i in range(0, 10))/10000)"
   ]
  },
  {
   "cell_type": "code",
   "execution_count": 15,
   "metadata": {
    "collapsed": false
   },
   "outputs": [
    {
     "name": "stdout",
     "output_type": "stream",
     "text": [
      "Accuracy: 0.85360\n"
     ]
    }
   ],
   "source": [
    "print('Accuracy: {:.5f}'.format(acc))"
   ]
  },
  {
   "cell_type": "markdown",
   "metadata": {},
   "source": [
    "### Recall"
   ]
  },
  {
   "cell_type": "code",
   "execution_count": 16,
   "metadata": {
    "collapsed": true
   },
   "outputs": [],
   "source": [
    "recall = lambda i: (conf_mtx[i][i]/sum(conf_mtx[i][j] for j in range(0,10)))"
   ]
  },
  {
   "cell_type": "code",
   "execution_count": 17,
   "metadata": {
    "collapsed": false
   },
   "outputs": [
    {
     "name": "stdout",
     "output_type": "stream",
     "text": [
      "Recall 0: 0.93673\n",
      "Recall 1: 0.96123\n",
      "Recall 2: 0.89922\n",
      "Recall 3: 0.76139\n",
      "Recall 4: 0.92770\n",
      "Recall 5: 0.60426\n",
      "Recall 6: 0.88727\n",
      "Recall 7: 0.85311\n",
      "Recall 8: 0.80698\n",
      "Recall 9: 0.85927\n",
      "\n",
      "Recall mean: 0.84972\n"
     ]
    }
   ],
   "source": [
    "recall_sum = 0\n",
    "for i in range(0,10):\n",
    "    rcl = recall(i)\n",
    "    recall_sum += rcl\n",
    "    print('Recall {}: {:.5f}'.format(i, rcl))\n",
    "print()\n",
    "print('Recall mean: {:.5f}'.format(recall_sum/10))"
   ]
  },
  {
   "cell_type": "markdown",
   "metadata": {},
   "source": [
    "### Precision"
   ]
  },
  {
   "cell_type": "code",
   "execution_count": 18,
   "metadata": {
    "collapsed": true
   },
   "outputs": [],
   "source": [
    "precision = lambda i: (conf_mtx[i][i]/sum(conf_mtx[j][i] for j in range(0,10)))"
   ]
  },
  {
   "cell_type": "code",
   "execution_count": 19,
   "metadata": {
    "collapsed": false
   },
   "outputs": [
    {
     "name": "stdout",
     "output_type": "stream",
     "text": [
      "Precision 0: 0.86767\n",
      "Precision 1: 0.95451\n",
      "Precision 2: 0.81048\n",
      "Precision 3: 0.90152\n",
      "Precision 4: 0.82593\n",
      "Precision 5: 0.86517\n",
      "Precision 6: 0.89474\n",
      "Precision 7: 0.89673\n",
      "Precision 8: 0.73321\n",
      "Precision 9: 0.80651\n",
      "\n",
      "Precision mean: 0.85565\n"
     ]
    }
   ],
   "source": [
    "precision_sum = 0\n",
    "for i in range(0,10):\n",
    "    label_precision = precision(i)\n",
    "    precision_sum += label_precision\n",
    "    print('Precision {}: {:.5f}'.format(i, label_precision))\n",
    "print()\n",
    "print('Precision mean: {:.5f}'.format(precision_sum/10))"
   ]
  }
 ],
 "metadata": {
  "anaconda-cloud": {},
  "kernelspec": {
   "display_name": "Python [Root]",
   "language": "python",
   "name": "Python [Root]"
  },
  "language_info": {
   "codemirror_mode": {
    "name": "ipython",
    "version": 3
   },
   "file_extension": ".py",
   "mimetype": "text/x-python",
   "name": "python",
   "nbconvert_exporter": "python",
   "pygments_lexer": "ipython3",
   "version": "3.4.5"
  }
 },
 "nbformat": 4,
 "nbformat_minor": 0
}
