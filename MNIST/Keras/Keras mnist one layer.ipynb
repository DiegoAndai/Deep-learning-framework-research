{
 "cells": [
  {
   "cell_type": "code",
   "execution_count": 1,
   "metadata": {
    "collapsed": false
   },
   "outputs": [
    {
     "name": "stderr",
     "output_type": "stream",
     "text": [
      "Using TensorFlow backend.\n"
     ]
    }
   ],
   "source": [
    "import keras as ks"
   ]
  },
  {
   "cell_type": "code",
   "execution_count": 4,
   "metadata": {
    "collapsed": true
   },
   "outputs": [],
   "source": [
    "import numpy as np"
   ]
  },
  {
   "cell_type": "code",
   "execution_count": 2,
   "metadata": {
    "collapsed": true
   },
   "outputs": [],
   "source": [
    "from mnist import MNIST\n",
    "#you can find python-mnist source code on https://github.com/sorki/python-mnist\n",
    "\n",
    "datahandler = MNIST('../mnist_data_loader') #change for data path\n",
    "train_data = datahandler.load_training()"
   ]
  },
  {
   "cell_type": "code",
   "execution_count": 5,
   "metadata": {
    "collapsed": false
   },
   "outputs": [],
   "source": [
    "image_array = np.asarray(train_data[0])"
   ]
  },
  {
   "cell_type": "code",
   "execution_count": 6,
   "metadata": {
    "collapsed": true
   },
   "outputs": [],
   "source": [
    "label_list = []\n",
    "for i in train_data[1]:\n",
    "    l = [0]*10\n",
    "    l[i] = 1\n",
    "    label_list.append(l)\n",
    "\n",
    "label_array = np.asarray(label_list)"
   ]
  },
  {
   "cell_type": "code",
   "execution_count": 116,
   "metadata": {
    "collapsed": false
   },
   "outputs": [],
   "source": [
    "from keras.models import Sequential\n",
    "from keras.layers import Dense, Activation, Input\n",
    "from keras.optimizers import SGD"
   ]
  },
  {
   "cell_type": "code",
   "execution_count": 177,
   "metadata": {
    "collapsed": false
   },
   "outputs": [],
   "source": [
    "model = Sequential([\n",
    "    Dense(10, input_dim=784, activation = 'sigmoid'),\n",
    "    Dense(10, activation = 'softmax'),\n",
    "])"
   ]
  },
  {
   "cell_type": "code",
   "execution_count": 178,
   "metadata": {
    "collapsed": false
   },
   "outputs": [],
   "source": [
    "model.compile(loss='categorical_crossentropy', optimizer='sgd', metrics=['accuracy'])"
   ]
  },
  {
   "cell_type": "code",
   "execution_count": 188,
   "metadata": {
    "collapsed": false
   },
   "outputs": [
    {
     "name": "stdout",
     "output_type": "stream",
     "text": [
      "Epoch 1/10\n",
      "59999/59999 [==============================] - 3s - loss: 0.5328 - acc: 0.8528     \n",
      "Epoch 2/10\n",
      "59999/59999 [==============================] - 3s - loss: 0.5236 - acc: 0.8541     \n",
      "Epoch 3/10\n",
      "59999/59999 [==============================] - 3s - loss: 0.5155 - acc: 0.8550     \n",
      "Epoch 4/10\n",
      "59999/59999 [==============================] - 3s - loss: 0.5099 - acc: 0.8580     \n",
      "Epoch 5/10\n",
      "59999/59999 [==============================] - 3s - loss: 0.5039 - acc: 0.8651     \n",
      "Epoch 6/10\n",
      "59999/59999 [==============================] - 3s - loss: 0.5012 - acc: 0.8626     \n",
      "Epoch 7/10\n",
      "59999/59999 [==============================] - 3s - loss: 0.5038 - acc: 0.8598     \n",
      "Epoch 8/10\n",
      "59999/59999 [==============================] - 3s - loss: 0.4914 - acc: 0.8631     \n",
      "Epoch 9/10\n",
      "59999/59999 [==============================] - 3s - loss: 0.4865 - acc: 0.8638     \n",
      "Epoch 10/10\n",
      "59999/59999 [==============================] - 3s - loss: 0.4796 - acc: 0.8640     \n"
     ]
    },
    {
     "data": {
      "text/plain": [
       "<keras.callbacks.History at 0x170b51ef0>"
      ]
     },
     "execution_count": 188,
     "metadata": {},
     "output_type": "execute_result"
    }
   ],
   "source": [
    "model.fit(image_array[:59999], label_array[:59999], nb_epoch=10, batch_size=100)"
   ]
  },
  {
   "cell_type": "code",
   "execution_count": 192,
   "metadata": {
    "collapsed": false
   },
   "outputs": [],
   "source": [
    "proba = model.predict(np.asarray([image_array[1]]))"
   ]
  },
  {
   "cell_type": "code",
   "execution_count": 193,
   "metadata": {
    "collapsed": false
   },
   "outputs": [
    {
     "data": {
      "text/plain": [
       "array([[  9.68474984e-01,   2.71639065e-03,   3.61486152e-03,\n",
       "          2.66823685e-03,   1.47639308e-04,   1.30899511e-02,\n",
       "          5.51257562e-03,   5.88697090e-04,   2.39487342e-03,\n",
       "          7.91762315e-04]], dtype=float32)"
      ]
     },
     "execution_count": 193,
     "metadata": {},
     "output_type": "execute_result"
    }
   ],
   "source": [
    "proba"
   ]
  },
  {
   "cell_type": "code",
   "execution_count": 194,
   "metadata": {
    "collapsed": false
   },
   "outputs": [
    {
     "data": {
      "text/plain": [
       "array([1, 0, 0, 0, 0, 0, 0, 0, 0, 0])"
      ]
     },
     "execution_count": 194,
     "metadata": {},
     "output_type": "execute_result"
    }
   ],
   "source": [
    "label_array[1]"
   ]
  },
  {
   "cell_type": "code",
   "execution_count": null,
   "metadata": {
    "collapsed": true
   },
   "outputs": [],
   "source": []
  }
 ],
 "metadata": {
  "anaconda-cloud": {},
  "kernelspec": {
   "display_name": "Python [Root]",
   "language": "python",
   "name": "Python [Root]"
  },
  "language_info": {
   "codemirror_mode": {
    "name": "ipython",
    "version": 3
   },
   "file_extension": ".py",
   "mimetype": "text/x-python",
   "name": "python",
   "nbconvert_exporter": "python",
   "pygments_lexer": "ipython3",
   "version": "3.4.5"
  }
 },
 "nbformat": 4,
 "nbformat_minor": 0
}
