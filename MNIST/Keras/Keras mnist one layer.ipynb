{
 "cells": [
  {
   "cell_type": "markdown",
   "metadata": {},
   "source": [
    "# Keras MNIST mlp\n",
    "\n",
    "Dimension: 784x10"
   ]
  },
  {
   "cell_type": "code",
   "execution_count": 2,
   "metadata": {
    "collapsed": false
   },
   "outputs": [
    {
     "name": "stderr",
     "output_type": "stream",
     "text": [
      "Using TensorFlow backend.\n"
     ]
    }
   ],
   "source": [
    "import keras as ks"
   ]
  },
  {
   "cell_type": "code",
   "execution_count": 19,
   "metadata": {
    "collapsed": false
   },
   "outputs": [],
   "source": [
    "import numpy as np\n",
    "from functools import reduce"
   ]
  },
  {
   "cell_type": "markdown",
   "metadata": {},
   "source": [
    "### Load data"
   ]
  },
  {
   "cell_type": "code",
   "execution_count": 4,
   "metadata": {
    "collapsed": true
   },
   "outputs": [],
   "source": [
    "from mnist import MNIST\n",
    "#you can find python-mnist source code on https://github.com/sorki/python-mnist\n",
    "\n",
    "datahandler = MNIST('../mnist_data_loader') #change for data path\n",
    "train_data = datahandler.load_training()"
   ]
  },
  {
   "cell_type": "code",
   "execution_count": 5,
   "metadata": {
    "collapsed": false
   },
   "outputs": [],
   "source": [
    "image_array = np.asarray(train_data[0])"
   ]
  },
  {
   "cell_type": "code",
   "execution_count": 6,
   "metadata": {
    "collapsed": true
   },
   "outputs": [],
   "source": [
    "label_list = []\n",
    "for i in train_data[1]:\n",
    "    l = [0]*10\n",
    "    l[i] = 1\n",
    "    label_list.append(l)\n",
    "\n",
    "label_array = np.asarray(label_list)"
   ]
  },
  {
   "cell_type": "code",
   "execution_count": 7,
   "metadata": {
    "collapsed": true
   },
   "outputs": [],
   "source": [
    "#set data slices\n",
    "train_finish = 50000\n",
    "eval_finish = 55000\n",
    "predict_start = 55000"
   ]
  },
  {
   "cell_type": "markdown",
   "metadata": {},
   "source": [
    "### Create and train model"
   ]
  },
  {
   "cell_type": "code",
   "execution_count": 8,
   "metadata": {
    "collapsed": false
   },
   "outputs": [],
   "source": [
    "from keras.models import Sequential\n",
    "from keras.layers import Dense, Activation, Input\n",
    "from keras.optimizers import SGD"
   ]
  },
  {
   "cell_type": "code",
   "execution_count": 9,
   "metadata": {
    "collapsed": false
   },
   "outputs": [],
   "source": [
    "model = Sequential([\n",
    "    Dense(10, input_dim=784, activation = 'sigmoid'),\n",
    "    Dense(10, activation = 'softmax'),\n",
    "])"
   ]
  },
  {
   "cell_type": "code",
   "execution_count": 10,
   "metadata": {
    "collapsed": false
   },
   "outputs": [],
   "source": [
    "model.compile(loss='categorical_crossentropy', optimizer='sgd', metrics=['accuracy'])"
   ]
  },
  {
   "cell_type": "code",
   "execution_count": 12,
   "metadata": {
    "collapsed": false
   },
   "outputs": [
    {
     "name": "stdout",
     "output_type": "stream",
     "text": [
      "Train on 50000 samples, validate on 5000 samples\n",
      "Epoch 1/10\n",
      "50000/50000 [==============================] - 2s - loss: 1.8366 - acc: 0.4843 - val_loss: 1.5479 - val_acc: 0.6740\n",
      "Epoch 2/10\n",
      "50000/50000 [==============================] - 1s - loss: 1.4101 - acc: 0.7099 - val_loss: 1.2930 - val_acc: 0.7426\n",
      "Epoch 3/10\n",
      "50000/50000 [==============================] - 2s - loss: 1.1806 - acc: 0.7704 - val_loss: 1.0991 - val_acc: 0.7892\n",
      "Epoch 4/10\n",
      "50000/50000 [==============================] - 1s - loss: 1.0294 - acc: 0.8003 - val_loss: 0.9828 - val_acc: 0.8004\n",
      "Epoch 5/10\n",
      "50000/50000 [==============================] - 2s - loss: 0.9202 - acc: 0.8114 - val_loss: 0.8793 - val_acc: 0.8154\n",
      "Epoch 6/10\n",
      "50000/50000 [==============================] - 2s - loss: 0.8456 - acc: 0.8177 - val_loss: 0.8041 - val_acc: 0.8190\n",
      "Epoch 7/10\n",
      "50000/50000 [==============================] - 2s - loss: 0.7812 - acc: 0.8281 - val_loss: 0.7525 - val_acc: 0.8310\n",
      "Epoch 8/10\n",
      "50000/50000 [==============================] - 2s - loss: 0.7377 - acc: 0.8363 - val_loss: 0.7445 - val_acc: 0.8242\n",
      "Epoch 9/10\n",
      "50000/50000 [==============================] - 2s - loss: 0.6955 - acc: 0.8445 - val_loss: 0.6867 - val_acc: 0.8468\n",
      "Epoch 10/10\n",
      "50000/50000 [==============================] - 2s - loss: 0.6746 - acc: 0.8402 - val_loss: 0.6648 - val_acc: 0.8420\n"
     ]
    }
   ],
   "source": [
    "hist = model.fit(image_array[:train_finish], \n",
    "                 label_array[:train_finish],\n",
    "                 validation_data = (image_array[train_finish:eval_finish],label_array[train_finish:eval_finish]),\n",
    "                 nb_epoch=10, \n",
    "                 batch_size=100)"
   ]
  },
  {
   "cell_type": "markdown",
   "metadata": {},
   "source": [
    "### Make predictions"
   ]
  },
  {
   "cell_type": "code",
   "execution_count": 14,
   "metadata": {
    "collapsed": false
   },
   "outputs": [],
   "source": [
    "p = model.predict([image_array[predict_start:]])"
   ]
  },
  {
   "cell_type": "code",
   "execution_count": 16,
   "metadata": {
    "collapsed": false
   },
   "outputs": [
    {
     "data": {
      "text/plain": [
       "5000"
      ]
     },
     "execution_count": 16,
     "metadata": {},
     "output_type": "execute_result"
    }
   ],
   "source": [
    "len(p) #check number of predictions"
   ]
  },
  {
   "cell_type": "markdown",
   "metadata": {},
   "source": [
    "# Metrics"
   ]
  },
  {
   "cell_type": "markdown",
   "metadata": {},
   "source": [
    "### Confusion matrix\n",
    "Useful for metric calculation"
   ]
  },
  {
   "cell_type": "code",
   "execution_count": 20,
   "metadata": {
    "collapsed": false
   },
   "outputs": [
    {
     "name": "stdout",
     "output_type": "stream",
     "text": [
      "[[ 459.    1.   21.   12.    1.   14.    6.    5.    2.    3.]\n",
      " [   0.  513.    4.    5.    1.    1.    3.    7.   17.    3.]\n",
      " [   4.    2.  408.   13.    0.    5.    2.    0.    6.    4.]\n",
      " [   6.    0.    5.  419.    0.   35.    0.    2.   23.    6.]\n",
      " [   0.    3.    9.    5.  478.    8.   16.    8.   11.   60.]\n",
      " [   2.    2.    1.   18.    0.  331.    1.    0.    8.    7.]\n",
      " [   4.    1.   11.    3.    8.   21.  453.    0.    2.    4.]\n",
      " [   9.    2.   15.    3.    1.   11.    0.  512.   15.   19.]\n",
      " [   4.    6.   19.   27.    2.   27.    1.    1.  407.    2.]\n",
      " [   1.    0.    0.    4.    8.    5.    0.   28.    3.  375.]]\n"
     ]
    }
   ],
   "source": [
    "conf_mtx = np.zeros([10, 10])\n",
    "for j in range(0, len(p)):\n",
    "    prediction = p[j]\n",
    "    max_pred = reduce(lambda x, y: (x if prediction[x] > prediction[y] else y), range(0,10))\n",
    "    actual_label = list(filter(lambda i: label_array[predict_start + j][i], range(0,10)))[0]\n",
    "    conf_mtx[max_pred][actual_label] += 1\n",
    "print(conf_mtx)"
   ]
  },
  {
   "cell_type": "markdown",
   "metadata": {},
   "source": [
    "### Accuracy"
   ]
  },
  {
   "cell_type": "code",
   "execution_count": 21,
   "metadata": {
    "collapsed": true
   },
   "outputs": [],
   "source": [
    "acc = (sum(conf_mtx[i][i] for i in range(0, 10))/5000)"
   ]
  },
  {
   "cell_type": "code",
   "execution_count": 22,
   "metadata": {
    "collapsed": false
   },
   "outputs": [
    {
     "name": "stdout",
     "output_type": "stream",
     "text": [
      "Accuracy: 0.87100\n"
     ]
    }
   ],
   "source": [
    "print('Accuracy: {:.5f}'.format(acc))"
   ]
  },
  {
   "cell_type": "markdown",
   "metadata": {},
   "source": [
    "### Recall"
   ]
  },
  {
   "cell_type": "code",
   "execution_count": 23,
   "metadata": {
    "collapsed": true
   },
   "outputs": [],
   "source": [
    "recall = lambda i: (conf_mtx[i][i]/sum(conf_mtx[j][i] for j in range(0,10)))"
   ]
  },
  {
   "cell_type": "code",
   "execution_count": 24,
   "metadata": {
    "collapsed": false
   },
   "outputs": [
    {
     "name": "stdout",
     "output_type": "stream",
     "text": [
      "Recall 0: 0.93865\n",
      "Recall 1: 0.96792\n",
      "Recall 2: 0.82759\n",
      "Recall 3: 0.82318\n",
      "Recall 4: 0.95792\n",
      "Recall 5: 0.72271\n",
      "Recall 6: 0.93983\n",
      "Recall 7: 0.90941\n",
      "Recall 8: 0.82389\n",
      "Recall 9: 0.77640\n",
      "\n",
      "Recall mean: 0.86875\n"
     ]
    }
   ],
   "source": [
    "recall_sum = 0\n",
    "for i in range(0,10):\n",
    "    rcl = recall(i)\n",
    "    recall_sum += rcl\n",
    "    print('Recall {}: {:.5f}'.format(i, rcl))\n",
    "print()\n",
    "print('Recall mean: {:.5f}'.format(recall_sum/10))"
   ]
  },
  {
   "cell_type": "markdown",
   "metadata": {},
   "source": [
    "### Precision"
   ]
  },
  {
   "cell_type": "code",
   "execution_count": 25,
   "metadata": {
    "collapsed": true
   },
   "outputs": [],
   "source": [
    "precision = lambda i: (conf_mtx[i][i]/sum(conf_mtx[i][j] for j in range(0,10)))"
   ]
  },
  {
   "cell_type": "code",
   "execution_count": 26,
   "metadata": {
    "collapsed": false
   },
   "outputs": [
    {
     "name": "stdout",
     "output_type": "stream",
     "text": [
      "Precision 0: 0.87595\n",
      "Precision 1: 0.92599\n",
      "Precision 2: 0.91892\n",
      "Precision 3: 0.84476\n",
      "Precision 4: 0.79933\n",
      "Precision 5: 0.89459\n",
      "Precision 6: 0.89349\n",
      "Precision 7: 0.87223\n",
      "Precision 8: 0.82056\n",
      "Precision 9: 0.88443\n",
      "\n",
      "Precision mean: 0.87303\n"
     ]
    }
   ],
   "source": [
    "precision_sum = 0\n",
    "for i in range(0,10):\n",
    "    label_precision = precision(i)\n",
    "    precision_sum += label_precision\n",
    "    print('Precision {}: {:.5f}'.format(i, label_precision))\n",
    "print()\n",
    "print('Precision mean: {:.5f}'.format(precision_sum/10))"
   ]
  },
  {
   "cell_type": "code",
   "execution_count": null,
   "metadata": {
    "collapsed": true
   },
   "outputs": [],
   "source": []
  }
 ],
 "metadata": {
  "anaconda-cloud": {},
  "kernelspec": {
   "display_name": "Python [Root]",
   "language": "python",
   "name": "Python [Root]"
  },
  "language_info": {
   "codemirror_mode": {
    "name": "ipython",
    "version": 3
   },
   "file_extension": ".py",
   "mimetype": "text/x-python",
   "name": "python",
   "nbconvert_exporter": "python",
   "pygments_lexer": "ipython3",
   "version": "3.4.5"
  }
 },
 "nbformat": 4,
 "nbformat_minor": 0
}
