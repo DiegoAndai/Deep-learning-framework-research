{
 "cells": [
  {
   "cell_type": "code",
   "execution_count": 1,
   "metadata": {
    "collapsed": false
   },
   "outputs": [
    {
     "name": "stderr",
     "output_type": "stream",
     "text": [
      "Using TensorFlow backend.\n"
     ]
    }
   ],
   "source": [
    "import keras as ks"
   ]
  },
  {
   "cell_type": "code",
   "execution_count": 2,
   "metadata": {
    "collapsed": true
   },
   "outputs": [],
   "source": [
    "import numpy as np"
   ]
  },
  {
   "cell_type": "code",
   "execution_count": 3,
   "metadata": {
    "collapsed": true
   },
   "outputs": [],
   "source": [
    "from mnist import MNIST\n",
    "#you can find python-mnist source code on https://github.com/sorki/python-mnist\n",
    "\n",
    "datahandler = MNIST('../mnist_data_loader') #change for data path\n",
    "train_data = datahandler.load_training()"
   ]
  },
  {
   "cell_type": "code",
   "execution_count": 4,
   "metadata": {
    "collapsed": false
   },
   "outputs": [],
   "source": [
    "image_array = np.asarray(train_data[0])"
   ]
  },
  {
   "cell_type": "code",
   "execution_count": 5,
   "metadata": {
    "collapsed": true
   },
   "outputs": [],
   "source": [
    "label_list = []\n",
    "for i in train_data[1]:\n",
    "    l = [0]*10\n",
    "    l[i] = 1\n",
    "    label_list.append(l)\n",
    "\n",
    "label_array = np.asarray(label_list)"
   ]
  },
  {
   "cell_type": "code",
   "execution_count": 6,
   "metadata": {
    "collapsed": false
   },
   "outputs": [],
   "source": [
    "from keras.models import Sequential\n",
    "from keras.layers import Dense, Activation, Input\n",
    "from keras.optimizers import SGD"
   ]
  },
  {
   "cell_type": "code",
   "execution_count": 7,
   "metadata": {
    "collapsed": false
   },
   "outputs": [],
   "source": [
    "model = Sequential([\n",
    "    Dense(10, input_dim=784, activation = 'sigmoid'),\n",
    "    Dense(10, activation = 'softmax'),\n",
    "])"
   ]
  },
  {
   "cell_type": "code",
   "execution_count": 8,
   "metadata": {
    "collapsed": false
   },
   "outputs": [],
   "source": [
    "model.compile(loss='categorical_crossentropy', optimizer='sgd', metrics=['accuracy'])"
   ]
  },
  {
   "cell_type": "code",
   "execution_count": 28,
   "metadata": {
    "collapsed": false
   },
   "outputs": [
    {
     "name": "stdout",
     "output_type": "stream",
     "text": [
      "Epoch 1/50\n",
      "60000/60000 [==============================] - 1s - loss: 0.3401 - acc: 0.9047     \n",
      "Epoch 2/50\n",
      "60000/60000 [==============================] - 1s - loss: 0.3445 - acc: 0.9032     \n",
      "Epoch 3/50\n",
      "60000/60000 [==============================] - 1s - loss: 0.3348 - acc: 0.9075     \n",
      "Epoch 4/50\n",
      "60000/60000 [==============================] - 1s - loss: 0.3423 - acc: 0.9035     \n",
      "Epoch 5/50\n",
      "60000/60000 [==============================] - 1s - loss: 0.3374 - acc: 0.9046     \n",
      "Epoch 6/50\n",
      "60000/60000 [==============================] - 2s - loss: 0.3374 - acc: 0.9052     \n",
      "Epoch 7/50\n",
      "60000/60000 [==============================] - 1s - loss: 0.3458 - acc: 0.9024     \n",
      "Epoch 8/50\n",
      "60000/60000 [==============================] - 2s - loss: 0.3344 - acc: 0.9067     \n",
      "Epoch 9/50\n",
      "60000/60000 [==============================] - 2s - loss: 0.3342 - acc: 0.9066     \n",
      "Epoch 10/50\n",
      "60000/60000 [==============================] - 2s - loss: 0.3439 - acc: 0.9045     \n",
      "Epoch 11/50\n",
      "60000/60000 [==============================] - 2s - loss: 0.3347 - acc: 0.9067     \n",
      "Epoch 12/50\n",
      "60000/60000 [==============================] - 2s - loss: 0.3296 - acc: 0.9086     \n",
      "Epoch 13/50\n",
      "60000/60000 [==============================] - 2s - loss: 0.3322 - acc: 0.9071     \n",
      "Epoch 14/50\n",
      "60000/60000 [==============================] - 2s - loss: 0.3291 - acc: 0.9066     \n",
      "Epoch 15/50\n",
      "60000/60000 [==============================] - 2s - loss: 0.3421 - acc: 0.9030     \n",
      "Epoch 16/50\n",
      "60000/60000 [==============================] - 1s - loss: 0.3360 - acc: 0.9043     \n",
      "Epoch 17/50\n",
      "60000/60000 [==============================] - 2s - loss: 0.3415 - acc: 0.9043     \n",
      "Epoch 18/50\n",
      "60000/60000 [==============================] - 2s - loss: 0.3433 - acc: 0.9040     \n",
      "Epoch 19/50\n",
      "60000/60000 [==============================] - 2s - loss: 0.3373 - acc: 0.9051     \n",
      "Epoch 20/50\n",
      "60000/60000 [==============================] - 1s - loss: 0.3410 - acc: 0.9040     \n",
      "Epoch 21/50\n",
      "60000/60000 [==============================] - 1s - loss: 0.3413 - acc: 0.9045     \n",
      "Epoch 22/50\n",
      "60000/60000 [==============================] - 1s - loss: 0.3375 - acc: 0.9037     \n",
      "Epoch 23/50\n",
      "60000/60000 [==============================] - 1s - loss: 0.3330 - acc: 0.9055     \n",
      "Epoch 24/50\n",
      "60000/60000 [==============================] - 1s - loss: 0.3333 - acc: 0.9067     \n",
      "Epoch 25/50\n",
      "60000/60000 [==============================] - 1s - loss: 0.3347 - acc: 0.9059     \n",
      "Epoch 26/50\n",
      "60000/60000 [==============================] - 1s - loss: 0.3389 - acc: 0.9034     \n",
      "Epoch 27/50\n",
      "60000/60000 [==============================] - 1s - loss: 0.3338 - acc: 0.9050     \n",
      "Epoch 28/50\n",
      "60000/60000 [==============================] - 1s - loss: 0.3446 - acc: 0.9022     \n",
      "Epoch 29/50\n",
      "60000/60000 [==============================] - 2s - loss: 0.3359 - acc: 0.9058     \n",
      "Epoch 30/50\n",
      "60000/60000 [==============================] - 1s - loss: 0.3312 - acc: 0.9071     \n",
      "Epoch 31/50\n",
      "60000/60000 [==============================] - 1s - loss: 0.3318 - acc: 0.9062     \n",
      "Epoch 32/50\n",
      "60000/60000 [==============================] - 1s - loss: 0.3468 - acc: 0.9023     \n",
      "Epoch 33/50\n",
      "60000/60000 [==============================] - 1s - loss: 0.3368 - acc: 0.9061     \n",
      "Epoch 34/50\n",
      "60000/60000 [==============================] - 1s - loss: 0.3354 - acc: 0.9069     \n",
      "Epoch 35/50\n",
      "60000/60000 [==============================] - 1s - loss: 0.3287 - acc: 0.9079     \n",
      "Epoch 36/50\n",
      "60000/60000 [==============================] - 1s - loss: 0.3342 - acc: 0.9072     \n",
      "Epoch 37/50\n",
      "60000/60000 [==============================] - 1s - loss: 0.3316 - acc: 0.9072     \n",
      "Epoch 38/50\n",
      "60000/60000 [==============================] - 1s - loss: 0.3353 - acc: 0.9061     \n",
      "Epoch 39/50\n",
      "60000/60000 [==============================] - 1s - loss: 0.3304 - acc: 0.9082     \n",
      "Epoch 40/50\n",
      "60000/60000 [==============================] - 1s - loss: 0.3350 - acc: 0.9075     \n",
      "Epoch 41/50\n",
      "60000/60000 [==============================] - 1s - loss: 0.3368 - acc: 0.9060     \n",
      "Epoch 42/50\n",
      "60000/60000 [==============================] - 1s - loss: 0.3323 - acc: 0.9072     \n",
      "Epoch 43/50\n",
      "60000/60000 [==============================] - 1s - loss: 0.3272 - acc: 0.9091     \n",
      "Epoch 44/50\n",
      "60000/60000 [==============================] - 1s - loss: 0.3231 - acc: 0.9090     \n",
      "Epoch 45/50\n",
      "60000/60000 [==============================] - 1s - loss: 0.3248 - acc: 0.9081     \n",
      "Epoch 46/50\n",
      "60000/60000 [==============================] - 1s - loss: 0.3234 - acc: 0.9097     \n",
      "Epoch 47/50\n",
      "60000/60000 [==============================] - 1s - loss: 0.3301 - acc: 0.9077     \n",
      "Epoch 48/50\n",
      "60000/60000 [==============================] - 1s - loss: 0.3327 - acc: 0.9059     \n",
      "Epoch 49/50\n",
      "60000/60000 [==============================] - 1s - loss: 0.3281 - acc: 0.9073     \n",
      "Epoch 50/50\n",
      "60000/60000 [==============================] - 1s - loss: 0.3352 - acc: 0.9042     \n"
     ]
    }
   ],
   "source": [
    "hist = model.fit(image_array, label_array, nb_epoch=50, batch_size=128)"
   ]
  },
  {
   "cell_type": "code",
   "execution_count": 34,
   "metadata": {
    "collapsed": false
   },
   "outputs": [],
   "source": [
    "proba = model.predict(np.asarray([image_array[2]]))"
   ]
  },
  {
   "cell_type": "code",
   "execution_count": 36,
   "metadata": {
    "collapsed": false
   },
   "outputs": [
    {
     "data": {
      "text/plain": [
       "array([0, 0, 0, 0, 1, 0, 0, 0, 0, 0])"
      ]
     },
     "execution_count": 36,
     "metadata": {},
     "output_type": "execute_result"
    }
   ],
   "source": [
    "label_array[2]"
   ]
  },
  {
   "cell_type": "code",
   "execution_count": 35,
   "metadata": {
    "collapsed": false
   },
   "outputs": [
    {
     "data": {
      "text/plain": [
       "array([[  5.94982645e-03,   6.95209904e-03,   5.68782628e-01,\n",
       "          6.31447509e-02,   2.81997859e-01,   3.39647726e-04,\n",
       "          2.25483789e-03,   1.91151146e-02,   7.08362414e-03,\n",
       "          4.43796702e-02]], dtype=float32)"
      ]
     },
     "execution_count": 35,
     "metadata": {},
     "output_type": "execute_result"
    }
   ],
   "source": [
    "proba"
   ]
  },
  {
   "cell_type": "code",
   "execution_count": 31,
   "metadata": {
    "collapsed": false
   },
   "outputs": [
    {
     "name": "stdout",
     "output_type": "stream",
     "text": [
      "59392/60000 [============================>.] - ETA: 0s"
     ]
    },
    {
     "data": {
      "text/plain": [
       "[0.32564742854436241, 0.9096500000317892]"
      ]
     },
     "execution_count": 31,
     "metadata": {},
     "output_type": "execute_result"
    }
   ],
   "source": [
    "model.evaluate(image_array, label_array, batch_size=128)"
   ]
  },
  {
   "cell_type": "code",
   "execution_count": 206,
   "metadata": {
    "collapsed": false
   },
   "outputs": [
    {
     "name": "stdout",
     "output_type": "stream",
     "text": [
      " 93/100 [==========================>...] - ETA: 0s"
     ]
    },
    {
     "data": {
      "text/plain": [
       "[0.29769826824776829, 0.93000000000000005]"
      ]
     },
     "execution_count": 206,
     "metadata": {},
     "output_type": "execute_result"
    }
   ],
   "source": [
    "model.evaluate(image_array[:100], label_array[:100], batch_size=1)"
   ]
  },
  {
   "cell_type": "code",
   "execution_count": 15,
   "metadata": {
    "collapsed": false
   },
   "outputs": [
    {
     "ename": "AttributeError",
     "evalue": "'Sequential' object has no attribute 'accuracy'",
     "output_type": "error",
     "traceback": [
      "\u001b[0;31m---------------------------------------------------------------------------\u001b[0m",
      "\u001b[0;31mAttributeError\u001b[0m                            Traceback (most recent call last)",
      "\u001b[0;32m<ipython-input-15-5a3e01cc2874>\u001b[0m in \u001b[0;36m<module>\u001b[0;34m()\u001b[0m\n\u001b[0;32m----> 1\u001b[0;31m \u001b[0mmodel\u001b[0m\u001b[0;34m.\u001b[0m\u001b[0maccuracy\u001b[0m\u001b[0;34m\u001b[0m\u001b[0m\n\u001b[0m",
      "\u001b[0;31mAttributeError\u001b[0m: 'Sequential' object has no attribute 'accuracy'"
     ]
    }
   ],
   "source": [
    "model.accuracy"
   ]
  },
  {
   "cell_type": "code",
   "execution_count": null,
   "metadata": {
    "collapsed": true
   },
   "outputs": [],
   "source": []
  }
 ],
 "metadata": {
  "anaconda-cloud": {},
  "kernelspec": {
   "display_name": "Python [Root]",
   "language": "python",
   "name": "Python [Root]"
  },
  "language_info": {
   "codemirror_mode": {
    "name": "ipython",
    "version": 3
   },
   "file_extension": ".py",
   "mimetype": "text/x-python",
   "name": "python",
   "nbconvert_exporter": "python",
   "pygments_lexer": "ipython3",
   "version": "3.4.5"
  }
 },
 "nbformat": 4,
 "nbformat_minor": 0
}
