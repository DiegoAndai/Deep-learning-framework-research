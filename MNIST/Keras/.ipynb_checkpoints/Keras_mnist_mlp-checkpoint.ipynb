{
 "cells": [
  {
   "cell_type": "markdown",
   "metadata": {},
   "source": [
    "# Keras MNIST mlp\n",
    "\n",
    "Dimension: 784x10<br>\n",
    "Training size: 60,000<br>\n",
    "Test size: 10,000"
   ]
  },
  {
   "cell_type": "code",
   "execution_count": 1,
   "metadata": {
    "collapsed": false
   },
   "outputs": [
    {
     "name": "stderr",
     "output_type": "stream",
     "text": [
      "Using Theano backend.\n"
     ]
    }
   ],
   "source": [
    "import keras as ks"
   ]
  },
  {
   "cell_type": "code",
   "execution_count": 2,
   "metadata": {
    "collapsed": false
   },
   "outputs": [],
   "source": [
    "import numpy as np\n",
    "from functools import reduce\n",
    "import datetime"
   ]
  },
  {
   "cell_type": "markdown",
   "metadata": {},
   "source": [
    "### Load data"
   ]
  },
  {
   "cell_type": "code",
   "execution_count": 3,
   "metadata": {
    "collapsed": true
   },
   "outputs": [],
   "source": [
    "from mnist import MNIST\n",
    "#you can find python-mnist source code on https://github.com/sorki/python-mnist\n",
    "\n",
    "datahandler = MNIST('../mnist_data_loader') #change for data path\n",
    "train_data = datahandler.load_training()\n",
    "test_data = datahandler.load_testing()"
   ]
  },
  {
   "cell_type": "code",
   "execution_count": 4,
   "metadata": {
    "collapsed": false
   },
   "outputs": [],
   "source": [
    "train_image_array = np.asarray(train_data[0])\n",
    "test_image_array = np.asarray(test_data[0])"
   ]
  },
  {
   "cell_type": "code",
   "execution_count": 5,
   "metadata": {
    "collapsed": true
   },
   "outputs": [],
   "source": [
    "train_label_list = []\n",
    "for i in train_data[1]:\n",
    "    l = [0]*10\n",
    "    l[i] = 1\n",
    "    train_label_list.append(l)\n",
    "\n",
    "train_label_array = np.asarray(train_label_list)"
   ]
  },
  {
   "cell_type": "code",
   "execution_count": 6,
   "metadata": {
    "collapsed": true
   },
   "outputs": [],
   "source": [
    "test_label_list = []\n",
    "for i in test_data[1]:\n",
    "    l = [0]*10\n",
    "    l[i] = 1\n",
    "    test_label_list.append(l)\n",
    "\n",
    "test_label_array = np.asarray(test_label_list)"
   ]
  },
  {
   "cell_type": "markdown",
   "metadata": {},
   "source": [
    "### Create and train model"
   ]
  },
  {
   "cell_type": "code",
   "execution_count": 7,
   "metadata": {
    "collapsed": false
   },
   "outputs": [],
   "source": [
    "from keras.models import Sequential\n",
    "from keras.layers import Dense, Activation, Input\n",
    "from keras.optimizers import SGD"
   ]
  },
  {
   "cell_type": "code",
   "execution_count": 8,
   "metadata": {
    "collapsed": false
   },
   "outputs": [],
   "source": [
    "model = Sequential([\n",
    "    Dense(10, input_dim=784, activation = 'sigmoid'),\n",
    "    Dense(10, activation = 'softmax'),\n",
    "])"
   ]
  },
  {
   "cell_type": "code",
   "execution_count": 9,
   "metadata": {
    "collapsed": false
   },
   "outputs": [],
   "source": [
    "model.compile(loss='binary_crossentropy', optimizer='sgd', metrics=['accuracy'])"
   ]
  },
  {
   "cell_type": "code",
   "execution_count": 10,
   "metadata": {
    "collapsed": false
   },
   "outputs": [
    {
     "name": "stdout",
     "output_type": "stream",
     "text": [
      "Epoch 1/10\n",
      "60000/60000 [==============================] - 3s - loss: 0.2604 - acc: 0.9035     \n",
      "Epoch 2/10\n",
      "60000/60000 [==============================] - 3s - loss: 0.2093 - acc: 0.9133     \n",
      "Epoch 3/10\n",
      "60000/60000 [==============================] - 3s - loss: 0.1725 - acc: 0.9291     \n",
      "Epoch 4/10\n",
      "60000/60000 [==============================] - 3s - loss: 0.1463 - acc: 0.9496     \n",
      "Epoch 5/10\n",
      "60000/60000 [==============================] - 3s - loss: 0.1300 - acc: 0.9565     \n",
      "Epoch 6/10\n",
      "60000/60000 [==============================] - 3s - loss: 0.1185 - acc: 0.9627     \n",
      "Epoch 7/10\n",
      "60000/60000 [==============================] - 3s - loss: 0.1112 - acc: 0.9658     \n",
      "Epoch 8/10\n",
      "60000/60000 [==============================] - 4s - loss: 0.1065 - acc: 0.9671     \n",
      "Epoch 9/10\n",
      "60000/60000 [==============================] - 4s - loss: 0.1024 - acc: 0.9684     \n",
      "Epoch 10/10\n",
      "60000/60000 [==============================] - 4s - loss: 0.0985 - acc: 0.9693     \n",
      "Tiempo de ejecución: 0:00:40.450213\n"
     ]
    }
   ],
   "source": [
    "t = datetime.datetime.now()\n",
    "hist = model.fit(train_image_array, \n",
    "                 train_label_array,\n",
    "                 nb_epoch=10, \n",
    "                 batch_size=10)\n",
    "print(\"Tiempo de ejecución: {}\".format(datetime.datetime.now()-t))"
   ]
  },
  {
   "cell_type": "markdown",
   "metadata": {},
   "source": [
    "### Make predictions"
   ]
  },
  {
   "cell_type": "code",
   "execution_count": 11,
   "metadata": {
    "collapsed": false
   },
   "outputs": [],
   "source": [
    "p = model.predict([test_image_array])"
   ]
  },
  {
   "cell_type": "code",
   "execution_count": 12,
   "metadata": {
    "collapsed": false
   },
   "outputs": [
    {
     "name": "stdout",
     "output_type": "stream",
     "text": [
      "Dimensión predicción: (10000, 10)\n"
     ]
    }
   ],
   "source": [
    "print(\"Dimensión predicción: {0}\".format(p.shape)) #check prediction dimensions"
   ]
  },
  {
   "cell_type": "markdown",
   "metadata": {},
   "source": [
    "# Metrics"
   ]
  },
  {
   "cell_type": "markdown",
   "metadata": {},
   "source": [
    "### Confusion matrix\n",
    "Useful for metric calculation"
   ]
  },
  {
   "cell_type": "code",
   "execution_count": 16,
   "metadata": {
    "collapsed": false
   },
   "outputs": [
    {
     "name": "stdout",
     "output_type": "stream",
     "text": [
      "[[  926.     0.    19.     3.     4.     7.    13.     2.     6.     0.]\n",
      " [    0.  1100.     6.     1.     0.     2.    15.     1.     8.     2.]\n",
      " [   10.     7.   857.    14.    23.     2.    26.    16.    73.     4.]\n",
      " [    9.     9.    47.   823.     0.    71.     7.    12.    25.     7.]\n",
      " [    1.     6.     3.     2.   864.     3.    41.     1.     3.    58.]\n",
      " [   28.     5.    14.    60.    39.   614.    28.    15.    69.    20.]\n",
      " [   20.     3.    19.     1.    44.     5.   850.     0.    16.     0.]\n",
      " [    1.    26.    29.     3.    10.     1.     3.   890.    15.    50.]\n",
      " [   18.    10.    14.    22.    22.    67.    51.     7.   752.    11.]\n",
      " [   12.    11.     2.     8.   126.    26.     7.    28.    12.   777.]]\n"
     ]
    }
   ],
   "source": [
    "conf_mtx = np.zeros([10, 10])\n",
    "for j in range(0, len(p)):\n",
    "    prediction = p[j]\n",
    "    max_pred = reduce(lambda x, y: (x if prediction[x] > prediction[y] else y), range(0,10))\n",
    "    actual_label = list(filter(lambda i: test_label_array[j][i], range(0,10)))[0]\n",
    "    conf_mtx[actual_label][max_pred] += 1\n",
    "np.set_printoptions(suppress=True)\n",
    "print(conf_mtx)"
   ]
  },
  {
   "cell_type": "markdown",
   "metadata": {},
   "source": [
    "### Accuracy"
   ]
  },
  {
   "cell_type": "code",
   "execution_count": 17,
   "metadata": {
    "collapsed": true
   },
   "outputs": [],
   "source": [
    "acc = (sum(conf_mtx[i][i] for i in range(0, 10))/10000)"
   ]
  },
  {
   "cell_type": "code",
   "execution_count": 18,
   "metadata": {
    "collapsed": false
   },
   "outputs": [
    {
     "name": "stdout",
     "output_type": "stream",
     "text": [
      "Accuracy: 0.84530\n"
     ]
    }
   ],
   "source": [
    "print('Accuracy: {:.5f}'.format(acc))"
   ]
  },
  {
   "cell_type": "markdown",
   "metadata": {},
   "source": [
    "### Recall"
   ]
  },
  {
   "cell_type": "code",
   "execution_count": 19,
   "metadata": {
    "collapsed": true
   },
   "outputs": [],
   "source": [
    "recall = lambda i: (conf_mtx[i][i]/sum(conf_mtx[i][j] for j in range(0,10)))"
   ]
  },
  {
   "cell_type": "code",
   "execution_count": 20,
   "metadata": {
    "collapsed": false
   },
   "outputs": [
    {
     "name": "stdout",
     "output_type": "stream",
     "text": [
      "Recall 0: 0.94490\n",
      "Recall 1: 0.96916\n",
      "Recall 2: 0.83043\n",
      "Recall 3: 0.81485\n",
      "Recall 4: 0.87984\n",
      "Recall 5: 0.68834\n",
      "Recall 6: 0.88727\n",
      "Recall 7: 0.86576\n",
      "Recall 8: 0.77207\n",
      "Recall 9: 0.77007\n",
      "\n",
      "Recall mean: 0.84227\n"
     ]
    }
   ],
   "source": [
    "recall_sum = 0\n",
    "for i in range(0,10):\n",
    "    rcl = recall(i)\n",
    "    recall_sum += rcl\n",
    "    print('Recall {}: {:.5f}'.format(i, rcl))\n",
    "print()\n",
    "print('Recall mean: {:.5f}'.format(recall_sum/10))"
   ]
  },
  {
   "cell_type": "markdown",
   "metadata": {},
   "source": [
    "### Precision"
   ]
  },
  {
   "cell_type": "code",
   "execution_count": 21,
   "metadata": {
    "collapsed": true
   },
   "outputs": [],
   "source": [
    "precision = lambda i: (conf_mtx[i][i]/sum(conf_mtx[j][i] for j in range(0,10)))"
   ]
  },
  {
   "cell_type": "code",
   "execution_count": 22,
   "metadata": {
    "collapsed": false
   },
   "outputs": [
    {
     "name": "stdout",
     "output_type": "stream",
     "text": [
      "Precision 0: 0.90341\n",
      "Precision 1: 0.93458\n",
      "Precision 2: 0.84851\n",
      "Precision 3: 0.87834\n",
      "Precision 4: 0.76325\n",
      "Precision 5: 0.76942\n",
      "Precision 6: 0.81652\n",
      "Precision 7: 0.91564\n",
      "Precision 8: 0.76813\n",
      "Precision 9: 0.83638\n",
      "\n",
      "Precision mean: 0.84342\n"
     ]
    }
   ],
   "source": [
    "precision_sum = 0\n",
    "for i in range(0,10):\n",
    "    label_precision = precision(i)\n",
    "    precision_sum += label_precision\n",
    "    print('Precision {}: {:.5f}'.format(i, label_precision))\n",
    "print()\n",
    "print('Precision mean: {:.5f}'.format(precision_sum/10))"
   ]
  }
 ],
 "metadata": {
  "anaconda-cloud": {},
  "kernelspec": {
   "display_name": "Python [Root]",
   "language": "python",
   "name": "Python [Root]"
  },
  "language_info": {
   "codemirror_mode": {
    "name": "ipython",
    "version": 3
   },
   "file_extension": ".py",
   "mimetype": "text/x-python",
   "name": "python",
   "nbconvert_exporter": "python",
   "pygments_lexer": "ipython3",
   "version": "3.4.5"
  }
 },
 "nbformat": 4,
 "nbformat_minor": 0
}
