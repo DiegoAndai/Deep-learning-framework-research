{
 "cells": [
  {
   "cell_type": "markdown",
   "metadata": {},
   "source": [
    "# Mxnet MNIST mlp\n",
    "\n",
    "Dimension: 784x10<br>\n",
    "Training size: 60,000<br>\n",
    "Test size: 10,000"
   ]
  },
  {
   "cell_type": "code",
   "execution_count": 1,
   "metadata": {
    "collapsed": false
   },
   "outputs": [],
   "source": [
    "import mxnet as mx"
   ]
  },
  {
   "cell_type": "code",
   "execution_count": 2,
   "metadata": {
    "collapsed": true
   },
   "outputs": [],
   "source": [
    "import numpy as np\n",
    "from functools import reduce\n",
    "import datetime"
   ]
  },
  {
   "cell_type": "markdown",
   "metadata": {},
   "source": [
    "### Load data"
   ]
  },
  {
   "cell_type": "code",
   "execution_count": 3,
   "metadata": {
    "collapsed": false
   },
   "outputs": [],
   "source": [
    "from mnist import MNIST\n",
    "#you can find python-mnist source code on https://github.com/sorki/python-mnist\n",
    "\n",
    "datahandler = MNIST('../mnist_data_loader') #change for data path\n",
    "train_data = datahandler.load_training()\n",
    "test_data = datahandler.load_testing()"
   ]
  },
  {
   "cell_type": "code",
   "execution_count": 4,
   "metadata": {
    "collapsed": false
   },
   "outputs": [],
   "source": [
    "train_image_array = np.asarray(train_data[0])\n",
    "test_image_array = np.asarray(test_data[0])"
   ]
  },
  {
   "cell_type": "code",
   "execution_count": 5,
   "metadata": {
    "collapsed": false
   },
   "outputs": [],
   "source": [
    "train_label_list = []\n",
    "for i in train_data[1]:\n",
    "    l = [0]*10\n",
    "    l[i] = 1\n",
    "    train_label_list.append(l)\n",
    "\n",
    "train_label_array = np.asarray(train_label_list)"
   ]
  },
  {
   "cell_type": "code",
   "execution_count": 6,
   "metadata": {
    "collapsed": false
   },
   "outputs": [],
   "source": [
    "test_label_list = []\n",
    "for i in test_data[1]:\n",
    "    l = [0]*10\n",
    "    l[i] = 1\n",
    "    test_label_list.append(l)\n",
    "\n",
    "test_label_array = np.asarray(test_label_list)"
   ]
  },
  {
   "cell_type": "markdown",
   "metadata": {},
   "source": [
    "### Create iterators for training and testing"
   ]
  },
  {
   "cell_type": "code",
   "execution_count": 7,
   "metadata": {
    "collapsed": false
   },
   "outputs": [],
   "source": [
    "train_iter = mx.io.NDArrayIter(\n",
    "    \n",
    "    data = train_image_array,\n",
    "    label = train_label_array,\n",
    "    batch_size = 10,\n",
    "\n",
    ")"
   ]
  },
  {
   "cell_type": "code",
   "execution_count": 8,
   "metadata": {
    "collapsed": true
   },
   "outputs": [],
   "source": [
    "test_iter = mx.io.NDArrayIter(\n",
    "    \n",
    "    data = test_image_array,\n",
    "    batch_size = 1,\n",
    "\n",
    ")"
   ]
  },
  {
   "cell_type": "markdown",
   "metadata": {},
   "source": [
    "### Create and train model"
   ]
  },
  {
   "cell_type": "code",
   "execution_count": 9,
   "metadata": {
    "collapsed": false
   },
   "outputs": [],
   "source": [
    "data = mx.symbol.Variable('data')\n",
    "fc1  = mx.symbol.FullyConnected(data = data, num_hidden=784)\n",
    "act1 = mx.symbol.Activation(data = fc1, act_type=\"sigmoid\")\n",
    "fc2  = mx.symbol.FullyConnected(data = act1, num_hidden=10)\n",
    "mlp  = mx.symbol.SoftmaxOutput(data = fc2, name = 'softmax')"
   ]
  },
  {
   "cell_type": "code",
   "execution_count": 10,
   "metadata": {
    "collapsed": false
   },
   "outputs": [],
   "source": [
    "model = mx.model.FeedForward(\n",
    "    \n",
    "    symbol = mlp,\n",
    "    num_epoch = 10,\n",
    "    learning_rate = .01\n",
    "\n",
    ")"
   ]
  },
  {
   "cell_type": "code",
   "execution_count": 11,
   "metadata": {
    "collapsed": false
   },
   "outputs": [
    {
     "name": "stdout",
     "output_type": "stream",
     "text": [
      "Tiempo de ejecución: 0:04:06.063847\n"
     ]
    }
   ],
   "source": [
    "t = datetime.datetime.now()\n",
    "model.fit(X = train_iter)\n",
    "print(\"Tiempo de ejecución: {}\".format(datetime.datetime.now()-t))"
   ]
  },
  {
   "cell_type": "markdown",
   "metadata": {},
   "source": [
    "### Make predictions"
   ]
  },
  {
   "cell_type": "code",
   "execution_count": 12,
   "metadata": {
    "collapsed": true
   },
   "outputs": [],
   "source": [
    "p = model.predict(X = test_iter)"
   ]
  },
  {
   "cell_type": "code",
   "execution_count": 17,
   "metadata": {
    "collapsed": false
   },
   "outputs": [
    {
     "name": "stdout",
     "output_type": "stream",
     "text": [
      "Dimensión predicción: (10000, 10)\n"
     ]
    }
   ],
   "source": [
    "print(\"Dimensión predicción: {0}\".format(p.shape)) #check prediction dimensions"
   ]
  },
  {
   "cell_type": "markdown",
   "metadata": {},
   "source": [
    "# Metrics"
   ]
  },
  {
   "cell_type": "markdown",
   "metadata": {},
   "source": [
    "### Confusion matrix\n",
    "Useful for metric calculation"
   ]
  },
  {
   "cell_type": "code",
   "execution_count": 18,
   "metadata": {
    "collapsed": false,
    "scrolled": true
   },
   "outputs": [
    {
     "name": "stdout",
     "output_type": "stream",
     "text": [
      "[[  965.     0.     0.     0.     0.     3.     5.     1.     5.     1.]\n",
      " [    0.  1123.     0.     3.     0.     1.     1.     0.     7.     0.]\n",
      " [   10.     4.   947.    22.     5.     1.     2.    10.    27.     4.]\n",
      " [    2.     1.     8.   966.     1.     6.     0.     6.    17.     3.]\n",
      " [    2.     2.    10.     1.   897.     1.     7.     0.     6.    56.]\n",
      " [   11.     5.     3.    31.     4.   808.    15.     1.     6.     8.]\n",
      " [   13.     4.     3.     0.    10.    11.   912.     1.     4.     0.]\n",
      " [    1.    19.    21.     9.     4.     0.     0.   921.     2.    51.]\n",
      " [    3.     5.     3.    28.     9.     5.    10.     6.   875.    30.]\n",
      " [    3.     7.     1.    14.    15.     1.     1.     3.     6.   958.]]\n"
     ]
    }
   ],
   "source": [
    "conf_mtx = np.zeros([10, 10])\n",
    "for j in range(0, len(p)):\n",
    "    prediction = p[j]\n",
    "    max_pred = reduce(lambda x, y: (x if prediction[x] > prediction[y] else y), range(0,10))\n",
    "    actual_label = list(filter(lambda i: test_label_array[j][i], range(0,10)))[0]\n",
    "    conf_mtx[actual_label][max_pred] += 1\n",
    "np.set_printoptions(suppress=True)\n",
    "print(conf_mtx)    "
   ]
  },
  {
   "cell_type": "markdown",
   "metadata": {},
   "source": [
    "### Accuracy"
   ]
  },
  {
   "cell_type": "code",
   "execution_count": 19,
   "metadata": {
    "collapsed": true
   },
   "outputs": [],
   "source": [
    "acc = (sum(conf_mtx[i][i] for i in range(0, 10))/10000)"
   ]
  },
  {
   "cell_type": "code",
   "execution_count": 20,
   "metadata": {
    "collapsed": false
   },
   "outputs": [
    {
     "name": "stdout",
     "output_type": "stream",
     "text": [
      "Accuracy: 0.93720\n"
     ]
    }
   ],
   "source": [
    "print('Accuracy: {:.5f}'.format(acc))"
   ]
  },
  {
   "cell_type": "markdown",
   "metadata": {},
   "source": [
    "### Recall"
   ]
  },
  {
   "cell_type": "code",
   "execution_count": 21,
   "metadata": {
    "collapsed": false
   },
   "outputs": [],
   "source": [
    "recall = lambda i: (conf_mtx[i][i]/sum(conf_mtx[i][j] for j in range(0,10)))"
   ]
  },
  {
   "cell_type": "code",
   "execution_count": 22,
   "metadata": {
    "collapsed": false
   },
   "outputs": [
    {
     "name": "stdout",
     "output_type": "stream",
     "text": [
      "Recall 0: 0.98469\n",
      "Recall 1: 0.98943\n",
      "Recall 2: 0.91764\n",
      "Recall 3: 0.95644\n",
      "Recall 4: 0.91344\n",
      "Recall 5: 0.90583\n",
      "Recall 6: 0.95198\n",
      "Recall 7: 0.89591\n",
      "Recall 8: 0.89836\n",
      "Recall 9: 0.94945\n",
      "\n",
      "Recall mean: 0.93632\n"
     ]
    }
   ],
   "source": [
    "recall_sum = 0\n",
    "for i in range(0,10):\n",
    "    rcl = recall(i)\n",
    "    recall_sum += rcl\n",
    "    print('Recall {}: {:.5f}'.format(i, rcl))\n",
    "print()\n",
    "print('Recall mean: {:.5f}'.format(recall_sum/10))"
   ]
  },
  {
   "cell_type": "markdown",
   "metadata": {},
   "source": [
    "### Precision"
   ]
  },
  {
   "cell_type": "code",
   "execution_count": 23,
   "metadata": {
    "collapsed": true
   },
   "outputs": [],
   "source": [
    "precision = lambda i: (conf_mtx[i][i]/sum(conf_mtx[j][i] for j in range(0,10)))"
   ]
  },
  {
   "cell_type": "code",
   "execution_count": 24,
   "metadata": {
    "collapsed": false
   },
   "outputs": [
    {
     "name": "stdout",
     "output_type": "stream",
     "text": [
      "Precision 0: 0.95545\n",
      "Precision 1: 0.95983\n",
      "Precision 2: 0.95080\n",
      "Precision 3: 0.89944\n",
      "Precision 4: 0.94921\n",
      "Precision 5: 0.96535\n",
      "Precision 6: 0.95698\n",
      "Precision 7: 0.97050\n",
      "Precision 8: 0.91623\n",
      "Precision 9: 0.86229\n",
      "\n",
      "Precision mean: 0.93861\n"
     ]
    }
   ],
   "source": [
    "precision_sum = 0\n",
    "for i in range(0,10):\n",
    "    label_precision = precision(i)\n",
    "    precision_sum += label_precision\n",
    "    print('Precision {}: {:.5f}'.format(i, label_precision))\n",
    "print()\n",
    "print('Precision mean: {:.5f}'.format(precision_sum/10))"
   ]
  }
 ],
 "metadata": {
  "anaconda-cloud": {},
  "kernelspec": {
   "display_name": "Python [Root]",
   "language": "python",
   "name": "Python [Root]"
  },
  "language_info": {
   "codemirror_mode": {
    "name": "ipython",
    "version": 3
   },
   "file_extension": ".py",
   "mimetype": "text/x-python",
   "name": "python",
   "nbconvert_exporter": "python",
   "pygments_lexer": "ipython3",
   "version": "3.4.5"
  }
 },
 "nbformat": 4,
 "nbformat_minor": 0
}
