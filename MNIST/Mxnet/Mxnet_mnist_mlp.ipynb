{
 "cells": [
  {
   "cell_type": "markdown",
   "metadata": {},
   "source": [
    "# Mxnet MNIST mlp\n",
    "\n",
    "Dimension: 784x10"
   ]
  },
  {
   "cell_type": "code",
   "execution_count": 27,
   "metadata": {
    "collapsed": false
   },
   "outputs": [],
   "source": [
    "import mxnet as mx"
   ]
  },
  {
   "cell_type": "code",
   "execution_count": 43,
   "metadata": {
    "collapsed": true
   },
   "outputs": [],
   "source": [
    "import numpy as np\n",
    "from functools import reduce"
   ]
  },
  {
   "cell_type": "markdown",
   "metadata": {},
   "source": [
    "### Load data"
   ]
  },
  {
   "cell_type": "code",
   "execution_count": 28,
   "metadata": {
    "collapsed": false
   },
   "outputs": [],
   "source": [
    "from mnist import MNIST\n",
    "#you can find python-mnist source code on https://github.com/sorki/python-mnist\n",
    "\n",
    "datahandler = MNIST('../mnist_data_loader') #change for data path\n",
    "train_data = datahandler.load_training()"
   ]
  },
  {
   "cell_type": "code",
   "execution_count": 29,
   "metadata": {
    "collapsed": true
   },
   "outputs": [],
   "source": [
    "image_array = np.asarray(train_data[0])"
   ]
  },
  {
   "cell_type": "code",
   "execution_count": 30,
   "metadata": {
    "collapsed": false
   },
   "outputs": [],
   "source": [
    "label_list = []\n",
    "for i in train_data[1]:\n",
    "    l = [0]*10\n",
    "    l[i] = 1\n",
    "    label_list.append(l)\n",
    "\n",
    "label_array = np.asarray(label_list)"
   ]
  },
  {
   "cell_type": "code",
   "execution_count": 51,
   "metadata": {
    "collapsed": true
   },
   "outputs": [],
   "source": [
    "#set data slices\n",
    "train_finish = 50000\n",
    "eval_finish = 55000\n",
    "predict_start = 55000"
   ]
  },
  {
   "cell_type": "markdown",
   "metadata": {},
   "source": [
    "### Create iterators for training, evaluating and testing"
   ]
  },
  {
   "cell_type": "code",
   "execution_count": 32,
   "metadata": {
    "collapsed": false
   },
   "outputs": [],
   "source": [
    "train_iter = mx.io.NDArrayIter(\n",
    "    \n",
    "    data = image_array[:train_finish],\n",
    "    label = label_array[:train_finish],\n",
    "    batch_size = 100,\n",
    "\n",
    ")"
   ]
  },
  {
   "cell_type": "code",
   "execution_count": 33,
   "metadata": {
    "collapsed": true
   },
   "outputs": [],
   "source": [
    "val_iter = mx.io.NDArrayIter(\n",
    "    \n",
    "    data = image_array[train_finish:eval_finish],\n",
    "    label = label_array[train_finish:eval_finish],\n",
    "    batch_size = 100,\n",
    "\n",
    ")"
   ]
  },
  {
   "cell_type": "code",
   "execution_count": 57,
   "metadata": {
    "collapsed": true
   },
   "outputs": [],
   "source": [
    "test_iter = mx.io.NDArrayIter(\n",
    "    \n",
    "    data = image_array[predict_start:],\n",
    "    batch_size = 1,\n",
    "\n",
    ")"
   ]
  },
  {
   "cell_type": "markdown",
   "metadata": {},
   "source": [
    "### Create and train model"
   ]
  },
  {
   "cell_type": "code",
   "execution_count": 34,
   "metadata": {
    "collapsed": false
   },
   "outputs": [],
   "source": [
    "data = mx.symbol.Variable('data')\n",
    "fc1  = mx.symbol.FullyConnected(data = data, num_hidden=784)\n",
    "act1 = mx.symbol.Activation(data = fc1, act_type=\"sigmoid\")\n",
    "fc2  = mx.symbol.FullyConnected(data = act1, num_hidden=10)\n",
    "mlp  = mx.symbol.SoftmaxOutput(data = fc2, name = 'softmax')"
   ]
  },
  {
   "cell_type": "code",
   "execution_count": 35,
   "metadata": {
    "collapsed": false
   },
   "outputs": [],
   "source": [
    "model = mx.model.FeedForward(\n",
    "    \n",
    "    symbol = mlp,\n",
    "    num_epoch = 10,\n",
    "    learning_rate = .01\n",
    "\n",
    ")"
   ]
  },
  {
   "cell_type": "code",
   "execution_count": null,
   "metadata": {
    "collapsed": true
   },
   "outputs": [],
   "source": [
    "model.fit(X = train_iter, eval_data = val_iter)"
   ]
  },
  {
   "cell_type": "markdown",
   "metadata": {},
   "source": [
    "### Make predictions"
   ]
  },
  {
   "cell_type": "code",
   "execution_count": 121,
   "metadata": {
    "collapsed": true
   },
   "outputs": [],
   "source": [
    "p = model.predict(X = test_iter)"
   ]
  },
  {
   "cell_type": "code",
   "execution_count": 122,
   "metadata": {
    "collapsed": false
   },
   "outputs": [
    {
     "data": {
      "text/plain": [
       "5000"
      ]
     },
     "execution_count": 122,
     "metadata": {},
     "output_type": "execute_result"
    }
   ],
   "source": [
    "len(p) #check number of predictions"
   ]
  },
  {
   "cell_type": "markdown",
   "metadata": {},
   "source": [
    "# Metrics"
   ]
  },
  {
   "cell_type": "markdown",
   "metadata": {},
   "source": [
    "### Confusion matrix\n",
    "Useful for metric calculation"
   ]
  },
  {
   "cell_type": "code",
   "execution_count": 123,
   "metadata": {
    "collapsed": false,
    "scrolled": true
   },
   "outputs": [
    {
     "name": "stdout",
     "output_type": "stream",
     "text": [
      "[[ 477.    0.    2.    0.    1.    2.    0.    0.    1.    0.]\n",
      " [   0.  526.    0.    1.    4.    0.    0.    2.    3.    1.]\n",
      " [   2.    1.  480.    2.    0.    2.    0.    1.    2.    1.]\n",
      " [   2.    0.    2.  498.    0.    8.    0.    2.    6.    4.]\n",
      " [   1.    0.    2.    0.  486.    1.    0.    3.    0.    5.]\n",
      " [   0.    0.    1.    4.    0.  434.    1.    0.    6.    2.]\n",
      " [   2.    1.    1.    0.    1.    8.  479.    0.    0.    0.]\n",
      " [   2.    0.    2.    0.    1.    1.    0.  553.    1.    2.]\n",
      " [   1.    2.    3.    2.    0.    1.    2.    1.  472.    1.]\n",
      " [   2.    0.    0.    2.    6.    1.    0.    1.    3.  467.]]\n"
     ]
    }
   ],
   "source": [
    "conf_mtx = np.zeros([10, 10])\n",
    "for j in range(0, len(p)):\n",
    "    prediction = p[j]\n",
    "    max_pred = reduce(lambda x, y: (x if prediction[x] > prediction[y] else y), range(0,10))\n",
    "    actual_label = list(filter(lambda i: label_array[predict_start + j][i], range(0,10)))[0]\n",
    "    conf_mtx[max_pred][actual_label] += 1\n",
    "print(conf_mtx)\n",
    "    "
   ]
  },
  {
   "cell_type": "markdown",
   "metadata": {},
   "source": [
    "### Accuracy"
   ]
  },
  {
   "cell_type": "code",
   "execution_count": 124,
   "metadata": {
    "collapsed": true
   },
   "outputs": [],
   "source": [
    "acc = (sum(conf_mtx[i][i] for i in range(0, 10))/5000)"
   ]
  },
  {
   "cell_type": "code",
   "execution_count": 125,
   "metadata": {
    "collapsed": false
   },
   "outputs": [
    {
     "name": "stdout",
     "output_type": "stream",
     "text": [
      "Accuracy: 0.97440\n"
     ]
    }
   ],
   "source": [
    "print('Accuracy: {:.5f}'.format(acc))"
   ]
  },
  {
   "cell_type": "markdown",
   "metadata": {},
   "source": [
    "### Recall"
   ]
  },
  {
   "cell_type": "code",
   "execution_count": 126,
   "metadata": {
    "collapsed": false
   },
   "outputs": [],
   "source": [
    "recall = lambda i: (conf_mtx[i][i]/sum(conf_mtx[j][i] for j in range(0,10)))"
   ]
  },
  {
   "cell_type": "code",
   "execution_count": 127,
   "metadata": {
    "collapsed": false
   },
   "outputs": [
    {
     "name": "stdout",
     "output_type": "stream",
     "text": [
      "Recall 0: 0.97546\n",
      "Recall 1: 0.99245\n",
      "Recall 2: 0.97363\n",
      "Recall 3: 0.97839\n",
      "Recall 4: 0.97395\n",
      "Recall 5: 0.94760\n",
      "Recall 6: 0.99378\n",
      "Recall 7: 0.98224\n",
      "Recall 8: 0.95547\n",
      "Recall 9: 0.96687\n",
      "\n",
      "Recall mean: 0.97398\n"
     ]
    }
   ],
   "source": [
    "recall_sum = 0\n",
    "for i in range(0,10):\n",
    "    rcl = recall(i)\n",
    "    recall_sum += rcl\n",
    "    print('Recall {}: {:.5f}'.format(i, rcl))\n",
    "print()\n",
    "print('Recall mean: {:.5f}'.format(recall_sum/10))"
   ]
  },
  {
   "cell_type": "markdown",
   "metadata": {},
   "source": [
    "### Precision"
   ]
  },
  {
   "cell_type": "code",
   "execution_count": 128,
   "metadata": {
    "collapsed": true
   },
   "outputs": [],
   "source": [
    "precision = lambda i: (conf_mtx[i][i]/sum(conf_mtx[i][j] for j in range(0,10)))"
   ]
  },
  {
   "cell_type": "code",
   "execution_count": 129,
   "metadata": {
    "collapsed": false
   },
   "outputs": [
    {
     "name": "stdout",
     "output_type": "stream",
     "text": [
      "Precision 0: 0.98758\n",
      "Precision 1: 0.97952\n",
      "Precision 2: 0.97760\n",
      "Precision 3: 0.95402\n",
      "Precision 4: 0.97590\n",
      "Precision 5: 0.96875\n",
      "Precision 6: 0.97358\n",
      "Precision 7: 0.98399\n",
      "Precision 8: 0.97320\n",
      "Precision 9: 0.96888\n",
      "\n",
      "Precision mean: 0.97430\n"
     ]
    }
   ],
   "source": [
    "precision_sum = 0\n",
    "for i in range(0,10):\n",
    "    label_precision = precision(i)\n",
    "    precision_sum += label_precision\n",
    "    print('Precision {}: {:.5f}'.format(i, label_precision))\n",
    "print()\n",
    "print('Precision mean: {:.5f}'.format(precision_sum/10))"
   ]
  },
  {
   "cell_type": "code",
   "execution_count": null,
   "metadata": {
    "collapsed": true
   },
   "outputs": [],
   "source": []
  },
  {
   "cell_type": "code",
   "execution_count": null,
   "metadata": {
    "collapsed": true
   },
   "outputs": [],
   "source": []
  },
  {
   "cell_type": "code",
   "execution_count": null,
   "metadata": {
    "collapsed": true
   },
   "outputs": [],
   "source": []
  }
 ],
 "metadata": {
  "anaconda-cloud": {},
  "kernelspec": {
   "display_name": "Python [Root]",
   "language": "python",
   "name": "Python [Root]"
  },
  "language_info": {
   "codemirror_mode": {
    "name": "ipython",
    "version": 3
   },
   "file_extension": ".py",
   "mimetype": "text/x-python",
   "name": "python",
   "nbconvert_exporter": "python",
   "pygments_lexer": "ipython3",
   "version": "3.4.5"
  }
 },
 "nbformat": 4,
 "nbformat_minor": 0
}
