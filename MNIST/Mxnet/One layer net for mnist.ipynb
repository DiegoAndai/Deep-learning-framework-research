{
 "cells": [
  {
   "cell_type": "code",
   "execution_count": 2,
   "metadata": {
    "collapsed": true
   },
   "outputs": [],
   "source": [
    "import numpy as np"
   ]
  },
  {
   "cell_type": "code",
   "execution_count": 3,
   "metadata": {
    "collapsed": false
   },
   "outputs": [],
   "source": [
    "import mxnet as mx"
   ]
  },
  {
   "cell_type": "code",
   "execution_count": 4,
   "metadata": {
    "collapsed": false
   },
   "outputs": [],
   "source": [
    "from mnist import MNIST\n",
    "#you can find python-mnist source code on https://github.com/sorki/python-mnist\n",
    "\n",
    "datahandler = MNIST('../mnist_data_loader') #change for data path\n",
    "train_data = datahandler.load_training()"
   ]
  },
  {
   "cell_type": "code",
   "execution_count": 5,
   "metadata": {
    "collapsed": true
   },
   "outputs": [],
   "source": [
    "image_array = np.asarray(train_data[0])"
   ]
  },
  {
   "cell_type": "code",
   "execution_count": 6,
   "metadata": {
    "collapsed": false
   },
   "outputs": [],
   "source": [
    "label_list = []\n",
    "for i in train_data[1]:\n",
    "    l = [0]*10\n",
    "    l[i] = 1\n",
    "    label_list.append(l)\n",
    "\n",
    "label_array = np.asarray(label_list)"
   ]
  },
  {
   "cell_type": "code",
   "execution_count": 7,
   "metadata": {
    "collapsed": false
   },
   "outputs": [
    {
     "data": {
      "text/plain": [
       "array([0, 0, 0, 0, 0, 1, 0, 0, 0, 0])"
      ]
     },
     "execution_count": 7,
     "metadata": {},
     "output_type": "execute_result"
    }
   ],
   "source": [
    "label_array[0]"
   ]
  },
  {
   "cell_type": "code",
   "execution_count": 8,
   "metadata": {
    "collapsed": false
   },
   "outputs": [],
   "source": [
    "train_iter = mx.io.NDArrayIter(\n",
    "    \n",
    "    data = image_array[:39999],\n",
    "    label = label_array[:39999],\n",
    "    batch_size = 1,\n",
    "\n",
    ")"
   ]
  },
  {
   "cell_type": "code",
   "execution_count": 9,
   "metadata": {
    "collapsed": true
   },
   "outputs": [],
   "source": [
    "val_iter = mx.io.NDArrayIter(\n",
    "    \n",
    "    data = image_array[19999:20699],\n",
    "    label = label_array[19999:20699],\n",
    "    batch_size = 1,\n",
    "\n",
    ")"
   ]
  },
  {
   "cell_type": "code",
   "execution_count": 10,
   "metadata": {
    "collapsed": false
   },
   "outputs": [],
   "source": [
    "data = mx.symbol.Variable('data')\n",
    "fc1  = mx.symbol.FullyConnected(data = data, num_hidden=784)\n",
    "act1 = mx.symbol.Activation(data = fc1, act_type=\"sigmoid\")\n",
    "fc2  = mx.symbol.FullyConnected(data = act1, num_hidden=10)\n",
    "mlp  = mx.symbol.SoftmaxOutput(data = fc2, name = 'softmax')"
   ]
  },
  {
   "cell_type": "code",
   "execution_count": 11,
   "metadata": {
    "collapsed": false
   },
   "outputs": [],
   "source": [
    "model = mx.model.FeedForward(\n",
    "    \n",
    "    symbol = mlp,\n",
    "    num_epoch = 1,\n",
    "    learning_rate = .01\n",
    "\n",
    ")\n",
    "\n",
    "model.fit(X = train_iter, eval_data = val_iter)"
   ]
  },
  {
   "cell_type": "code",
   "execution_count": 12,
   "metadata": {
    "collapsed": true
   },
   "outputs": [],
   "source": [
    "test_iter = mx.io.NDArrayIter(\n",
    "    \n",
    "    data = image_array[:5],\n",
    "    batch_size = 1,\n",
    "\n",
    ")"
   ]
  },
  {
   "cell_type": "code",
   "execution_count": 17,
   "metadata": {
    "collapsed": false
   },
   "outputs": [
    {
     "data": {
      "text/plain": [
       "array([[  2.14133728e-02,   3.89513420e-03,   8.01115995e-04,\n",
       "          2.32210755e-02,   4.70099214e-04,   5.30587912e-01,\n",
       "          1.24087918e-03,   4.68677320e-02,   1.62145779e-01,\n",
       "          2.09356889e-01],\n",
       "       [  9.07576382e-01,   1.61036587e-05,   5.21449663e-04,\n",
       "          2.24480079e-03,   2.23067091e-05,   5.72188534e-02,\n",
       "          2.10909075e-05,   2.73684179e-03,   2.64619943e-02,\n",
       "          3.18022049e-03],\n",
       "       [  8.05557720e-05,   7.53663443e-08,   2.07072546e-04,\n",
       "          1.60564332e-06,   9.79980111e-01,   1.45494763e-04,\n",
       "          1.62740020e-04,   1.19916876e-04,   1.59863339e-04,\n",
       "          1.91428009e-02],\n",
       "       [  1.61534845e-04,   5.84019840e-01,   1.28302708e-01,\n",
       "          2.06150394e-03,   1.68826045e-05,   6.67800521e-03,\n",
       "          8.26330725e-05,   5.75919148e-05,   2.78463006e-01,\n",
       "          1.56267051e-04],\n",
       "       [  2.03916396e-04,   6.41648658e-04,   3.33813776e-04,\n",
       "          1.06685911e-05,   3.78591679e-02,   1.34322802e-02,\n",
       "          1.75455846e-02,   4.71897516e-03,   1.04479743e-02,\n",
       "          9.14806008e-01]], dtype=float32)"
      ]
     },
     "execution_count": 17,
     "metadata": {},
     "output_type": "execute_result"
    }
   ],
   "source": [
    "model.predict(X = test_iter)"
   ]
  },
  {
   "cell_type": "markdown",
   "metadata": {},
   "source": [
    "## Metrics"
   ]
  },
  {
   "cell_type": "code",
   "execution_count": 43,
   "metadata": {
    "collapsed": false
   },
   "outputs": [
    {
     "name": "stdout",
     "output_type": "stream",
     "text": [
      "[<mxnet.ndarray.NDArray object at 0x1440f5c50>, <mxnet.ndarray.NDArray object at 0x1440f5dd8>, <mxnet.ndarray.NDArray object at 0x1440f5cf8>, <mxnet.ndarray.NDArray object at 0x1440f5d30>, <mxnet.ndarray.NDArray object at 0x1440f5e10>]\n"
     ]
    }
   ],
   "source": [
    "predict = model.predict(X = test_iter)\n",
    "nd_predict = []\n",
    "for p in predict:\n",
    "    nd_predict.append(mx.nd.array(p))\n",
    "\n",
    "print(nd_predict)"
   ]
  },
  {
   "cell_type": "code",
   "execution_count": 15,
   "metadata": {
    "collapsed": false
   },
   "outputs": [
    {
     "name": "stdout",
     "output_type": "stream",
     "text": [
      "<mxnet.ndarray.NDArray object at 0x104801dd8>\n"
     ]
    }
   ],
   "source": []
  },
  {
   "cell_type": "code",
   "execution_count": 42,
   "metadata": {
    "collapsed": false
   },
   "outputs": [
    {
     "name": "stdout",
     "output_type": "stream",
     "text": [
      "[<mxnet.ndarray.NDArray object at 0x1440e9048>, <mxnet.ndarray.NDArray object at 0x1440e9710>, <mxnet.ndarray.NDArray object at 0x1440f54a8>, <mxnet.ndarray.NDArray object at 0x1440f54e0>, <mxnet.ndarray.NDArray object at 0x1440f5550>]\n"
     ]
    }
   ],
   "source": [
    "labels = label_array[:5]\n",
    "nd_labels = []\n",
    "for l in labels:\n",
    "    nd_labels.append(mx.nd.array(l))\n",
    "\n",
    "print(nd_labels)"
   ]
  },
  {
   "cell_type": "code",
   "execution_count": 19,
   "metadata": {
    "collapsed": false
   },
   "outputs": [
    {
     "data": {
      "text/plain": [
       "mxnet.ndarray.NDArray"
      ]
     },
     "execution_count": 19,
     "metadata": {},
     "output_type": "execute_result"
    }
   ],
   "source": [
    "type(predict)"
   ]
  },
  {
   "cell_type": "code",
   "execution_count": 20,
   "metadata": {
    "collapsed": false
   },
   "outputs": [],
   "source": [
    "accuracy = mx.metric.Accuracy()"
   ]
  },
  {
   "cell_type": "code",
   "execution_count": 44,
   "metadata": {
    "collapsed": false
   },
   "outputs": [],
   "source": [
    "accuracy.update(nd_labels, nd_predict)"
   ]
  },
  {
   "cell_type": "code",
   "execution_count": 46,
   "metadata": {
    "collapsed": false
   },
   "outputs": [
    {
     "data": {
      "text/plain": [
       "('accuracy', 0.90000000000000002)"
      ]
     },
     "execution_count": 46,
     "metadata": {},
     "output_type": "execute_result"
    }
   ],
   "source": [
    "accuracy.get()"
   ]
  },
  {
   "cell_type": "code",
   "execution_count": null,
   "metadata": {
    "collapsed": true
   },
   "outputs": [],
   "source": []
  }
 ],
 "metadata": {
  "anaconda-cloud": {},
  "kernelspec": {
   "display_name": "Python [Root]",
   "language": "python",
   "name": "Python [Root]"
  },
  "language_info": {
   "codemirror_mode": {
    "name": "ipython",
    "version": 3
   },
   "file_extension": ".py",
   "mimetype": "text/x-python",
   "name": "python",
   "nbconvert_exporter": "python",
   "pygments_lexer": "ipython3",
   "version": "3.4.5"
  }
 },
 "nbformat": 4,
 "nbformat_minor": 0
}
